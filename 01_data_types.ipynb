{
  "nbformat": 4,
  "nbformat_minor": 0,
  "metadata": {
    "colab": {
      "provenance": [],
      "toc_visible": true,
      "authorship_tag": "ABX9TyP5cVS0cK/Amc5rS3Lx5pBv",
      "include_colab_link": true
    },
    "kernelspec": {
      "name": "ir",
      "display_name": "R"
    },
    "language_info": {
      "name": "R"
    }
  },
  "cells": [
    {
      "cell_type": "markdown",
      "metadata": {
        "id": "view-in-github",
        "colab_type": "text"
      },
      "source": [
        "<a href=\"https://colab.research.google.com/github/lisphilar/r_language/blob/main/01_data_types.ipynb\" target=\"_parent\"><img src=\"https://colab.research.google.com/assets/colab-badge.svg\" alt=\"Open In Colab\"/></a>"
      ]
    },
    {
      "cell_type": "markdown",
      "source": [
        "# R language: data types\n",
        "As data types, R langunage has vectors, lists, dataframes and matrixes. Lists can accept different types for elements. Dataframe is a two-dimensional data structure. Matrixes are for numeric values."
      ],
      "metadata": {
        "id": "ACuXoTShm-V1"
      }
    },
    {
      "cell_type": "markdown",
      "source": [
        "R version:"
      ],
      "metadata": {
        "id": "GcDduqMOq6c4"
      }
    },
    {
      "cell_type": "code",
      "source": [
        "print(R.version.string)"
      ],
      "metadata": {
        "colab": {
          "base_uri": "https://localhost:8080/"
        },
        "id": "mliAPfWDqIGU",
        "outputId": "37c01867-b452-4d00-d98e-4b27fc3f8014"
      },
      "execution_count": 1,
      "outputs": [
        {
          "output_type": "stream",
          "name": "stdout",
          "text": [
            "[1] \"R version 4.3.1 (2023-06-16)\"\n"
          ]
        }
      ]
    },
    {
      "cell_type": "markdown",
      "source": [
        "## Types of vectors\n",
        "R language has the following types for vectors.\n",
        "\n",
        "- string\n",
        "- double\n",
        "- integer\n",
        "- logical\n",
        "- factor"
      ],
      "metadata": {
        "id": "tOR6OS7bsPfX"
      }
    },
    {
      "cell_type": "markdown",
      "source": [
        "### Strings"
      ],
      "metadata": {
        "id": "6D0RVfVspdCN"
      }
    },
    {
      "cell_type": "code",
      "execution_count": 2,
      "metadata": {
        "id": "CzPbY7xtm2HS"
      },
      "outputs": [],
      "source": [
        "# Python: strings = ['A', 'B', 'C']\n",
        "strings <- c(\"A\", \"B\", \"C\")"
      ]
    },
    {
      "cell_type": "code",
      "source": [
        "strings"
      ],
      "metadata": {
        "colab": {
          "base_uri": "https://localhost:8080/",
          "height": 34
        },
        "id": "a5ALCo2Mp4MK",
        "outputId": "fb906fbd-e9d9-4c78-b2ab-997b4ff7e174"
      },
      "execution_count": 3,
      "outputs": [
        {
          "output_type": "display_data",
          "data": {
            "text/html": [
              "<style>\n",
              ".list-inline {list-style: none; margin:0; padding: 0}\n",
              ".list-inline>li {display: inline-block}\n",
              ".list-inline>li:not(:last-child)::after {content: \"\\00b7\"; padding: 0 .5ex}\n",
              "</style>\n",
              "<ol class=list-inline><li>'A'</li><li>'B'</li><li>'C'</li></ol>\n"
            ],
            "text/markdown": "1. 'A'\n2. 'B'\n3. 'C'\n\n\n",
            "text/latex": "\\begin{enumerate*}\n\\item 'A'\n\\item 'B'\n\\item 'C'\n\\end{enumerate*}\n",
            "text/plain": [
              "[1] \"A\" \"B\" \"C\""
            ]
          },
          "metadata": {}
        }
      ]
    },
    {
      "cell_type": "code",
      "source": [
        "# Python: type(strings)\n",
        "print(class(strings))\n",
        "print(typeof(strings))"
      ],
      "metadata": {
        "colab": {
          "base_uri": "https://localhost:8080/"
        },
        "id": "EVJ3jnWTp4_Z",
        "outputId": "62d4bead-95ad-4a25-aa5b-64bc63c9dc03"
      },
      "execution_count": 4,
      "outputs": [
        {
          "output_type": "stream",
          "name": "stdout",
          "text": [
            "[1] \"character\"\n",
            "[1] \"character\"\n"
          ]
        }
      ]
    },
    {
      "cell_type": "markdown",
      "source": [
        "### Doubles"
      ],
      "metadata": {
        "id": "OHBgWOW0sEQS"
      }
    },
    {
      "cell_type": "code",
      "source": [
        "doubles <- c(1.0, 1.1, 1.2)"
      ],
      "metadata": {
        "id": "o2It-PSish7B"
      },
      "execution_count": 5,
      "outputs": []
    },
    {
      "cell_type": "code",
      "source": [
        "doubles"
      ],
      "metadata": {
        "colab": {
          "base_uri": "https://localhost:8080/",
          "height": 34
        },
        "id": "dLrAM0xnsmRH",
        "outputId": "06670ed9-88ec-4dd7-fc97-fe7a4d30db0b"
      },
      "execution_count": 6,
      "outputs": [
        {
          "output_type": "display_data",
          "data": {
            "text/html": [
              "<style>\n",
              ".list-inline {list-style: none; margin:0; padding: 0}\n",
              ".list-inline>li {display: inline-block}\n",
              ".list-inline>li:not(:last-child)::after {content: \"\\00b7\"; padding: 0 .5ex}\n",
              "</style>\n",
              "<ol class=list-inline><li>1</li><li>1.1</li><li>1.2</li></ol>\n"
            ],
            "text/markdown": "1. 1\n2. 1.1\n3. 1.2\n\n\n",
            "text/latex": "\\begin{enumerate*}\n\\item 1\n\\item 1.1\n\\item 1.2\n\\end{enumerate*}\n",
            "text/plain": [
              "[1] 1.0 1.1 1.2"
            ]
          },
          "metadata": {}
        }
      ]
    },
    {
      "cell_type": "code",
      "source": [
        "print(class(doubles))\n",
        "print(typeof(doubles))"
      ],
      "metadata": {
        "colab": {
          "base_uri": "https://localhost:8080/"
        },
        "id": "9M2qVL49snbE",
        "outputId": "5cf1e34a-5ddd-4caf-d5c2-9583a32074bd"
      },
      "execution_count": 7,
      "outputs": [
        {
          "output_type": "stream",
          "name": "stdout",
          "text": [
            "[1] \"numeric\"\n",
            "[1] \"double\"\n"
          ]
        }
      ]
    },
    {
      "cell_type": "markdown",
      "source": [
        "With NAs. Note that NAs are different from NULLs, which mean empty place folders. `print` function does not show NULL values."
      ],
      "metadata": {
        "id": "n2c4BCijtLZn"
      }
    },
    {
      "cell_type": "code",
      "source": [
        "doubles_with_NAs <- c(1.0, NA, 1.2, NA)\n",
        "print(doubles_with_NAs)\n",
        "print(typeof(doubles_with_NAs))\n",
        "print(class(doubles_with_NAs))"
      ],
      "metadata": {
        "colab": {
          "base_uri": "https://localhost:8080/"
        },
        "id": "hEd8CxkxtNq2",
        "outputId": "2bc8d372-ee5e-4afc-e796-a96b4d57115f"
      },
      "execution_count": 8,
      "outputs": [
        {
          "output_type": "stream",
          "name": "stdout",
          "text": [
            "[1] 1.0  NA 1.2  NA\n",
            "[1] \"double\"\n",
            "[1] \"numeric\"\n"
          ]
        }
      ]
    },
    {
      "cell_type": "code",
      "source": [
        "print(c(NULL, 1.0))"
      ],
      "metadata": {
        "colab": {
          "base_uri": "https://localhost:8080/"
        },
        "id": "9ZOAAx7DttP3",
        "outputId": "f734ca81-e009-45d4-86ab-9ffda97bce55"
      },
      "execution_count": 9,
      "outputs": [
        {
          "output_type": "stream",
          "name": "stdout",
          "text": [
            "[1] 1\n"
          ]
        }
      ]
    },
    {
      "cell_type": "markdown",
      "source": [
        "### Integers\n",
        "Note that \"L\" is required to use integer type."
      ],
      "metadata": {
        "id": "7qHQVrvnqBO3"
      }
    },
    {
      "cell_type": "code",
      "source": [
        "integers <- c(1L, 2L, 3L)"
      ],
      "metadata": {
        "id": "_ax_yM6ip95K"
      },
      "execution_count": 10,
      "outputs": []
    },
    {
      "cell_type": "code",
      "source": [
        "integers"
      ],
      "metadata": {
        "colab": {
          "base_uri": "https://localhost:8080/",
          "height": 34
        },
        "id": "kYEPbkrYqr2k",
        "outputId": "35ceb2a5-7716-48ea-e2a5-d33e5c1f5add"
      },
      "execution_count": 11,
      "outputs": [
        {
          "output_type": "display_data",
          "data": {
            "text/html": [
              "<style>\n",
              ".list-inline {list-style: none; margin:0; padding: 0}\n",
              ".list-inline>li {display: inline-block}\n",
              ".list-inline>li:not(:last-child)::after {content: \"\\00b7\"; padding: 0 .5ex}\n",
              "</style>\n",
              "<ol class=list-inline><li>1</li><li>2</li><li>3</li></ol>\n"
            ],
            "text/markdown": "1. 1\n2. 2\n3. 3\n\n\n",
            "text/latex": "\\begin{enumerate*}\n\\item 1\n\\item 2\n\\item 3\n\\end{enumerate*}\n",
            "text/plain": [
              "[1] 1 2 3"
            ]
          },
          "metadata": {}
        }
      ]
    },
    {
      "cell_type": "code",
      "source": [
        "print(class(integers))\n",
        "print(typeof(integers))"
      ],
      "metadata": {
        "colab": {
          "base_uri": "https://localhost:8080/"
        },
        "id": "dl7AmgR4qs4u",
        "outputId": "36cd4d5f-ded1-4485-b2bd-ef8e5e64b5af"
      },
      "execution_count": 12,
      "outputs": [
        {
          "output_type": "stream",
          "name": "stdout",
          "text": [
            "[1] \"integer\"\n",
            "[1] \"integer\"\n"
          ]
        }
      ]
    },
    {
      "cell_type": "code",
      "source": [
        "typeof(c(1, 2, 3))"
      ],
      "metadata": {
        "colab": {
          "base_uri": "https://localhost:8080/",
          "height": 34
        },
        "id": "plZ-8xRjqx04",
        "outputId": "043873f7-1e26-4e97-b23d-a00611328f9c"
      },
      "execution_count": 13,
      "outputs": [
        {
          "output_type": "display_data",
          "data": {
            "text/html": [
              "'double'"
            ],
            "text/markdown": "'double'",
            "text/latex": "'double'",
            "text/plain": [
              "[1] \"double\""
            ]
          },
          "metadata": {}
        }
      ]
    },
    {
      "cell_type": "markdown",
      "source": [
        "We can use `type.conver` to convert types."
      ],
      "metadata": {
        "id": "7tU9yfQBs2S0"
      }
    },
    {
      "cell_type": "code",
      "source": [
        "typeof(type.convert(c(1, 2, 3), as.is=\"integer\"))"
      ],
      "metadata": {
        "colab": {
          "base_uri": "https://localhost:8080/",
          "height": 34
        },
        "id": "IBS0klPNr7gx",
        "outputId": "6786cb7d-a5d6-40d1-b6f2-4a6819f8105a"
      },
      "execution_count": 14,
      "outputs": [
        {
          "output_type": "display_data",
          "data": {
            "text/html": [
              "'integer'"
            ],
            "text/markdown": "'integer'",
            "text/latex": "'integer'",
            "text/plain": [
              "[1] \"integer\""
            ]
          },
          "metadata": {}
        }
      ]
    },
    {
      "cell_type": "markdown",
      "source": [
        "### Logical values"
      ],
      "metadata": {
        "id": "mMyWle1Vs7In"
      }
    },
    {
      "cell_type": "code",
      "source": [
        "logicals <- c(TRUE, FALSE, TRUE)"
      ],
      "metadata": {
        "id": "3gl5hlJwstK-"
      },
      "execution_count": 15,
      "outputs": []
    },
    {
      "cell_type": "code",
      "source": [
        "logicals"
      ],
      "metadata": {
        "colab": {
          "base_uri": "https://localhost:8080/",
          "height": 34
        },
        "id": "AWMIy_vBtD2H",
        "outputId": "2261fb5b-2cc2-4d76-d7e3-aaedaf984661"
      },
      "execution_count": 16,
      "outputs": [
        {
          "output_type": "display_data",
          "data": {
            "text/html": [
              "<style>\n",
              ".list-inline {list-style: none; margin:0; padding: 0}\n",
              ".list-inline>li {display: inline-block}\n",
              ".list-inline>li:not(:last-child)::after {content: \"\\00b7\"; padding: 0 .5ex}\n",
              "</style>\n",
              "<ol class=list-inline><li>TRUE</li><li>FALSE</li><li>TRUE</li></ol>\n"
            ],
            "text/markdown": "1. TRUE\n2. FALSE\n3. TRUE\n\n\n",
            "text/latex": "\\begin{enumerate*}\n\\item TRUE\n\\item FALSE\n\\item TRUE\n\\end{enumerate*}\n",
            "text/plain": [
              "[1]  TRUE FALSE  TRUE"
            ]
          },
          "metadata": {}
        }
      ]
    },
    {
      "cell_type": "code",
      "source": [
        "print(class(logicals))\n",
        "print(typeof(logicals))"
      ],
      "metadata": {
        "colab": {
          "base_uri": "https://localhost:8080/"
        },
        "id": "yhzPi4jOtEsi",
        "outputId": "652c074a-b59b-40e2-95dd-97aac84ed7da"
      },
      "execution_count": 17,
      "outputs": [
        {
          "output_type": "stream",
          "name": "stdout",
          "text": [
            "[1] \"logical\"\n",
            "[1] \"logical\"\n"
          ]
        }
      ]
    },
    {
      "cell_type": "markdown",
      "source": [
        "### Factors\n",
        "Vector of factors can be created with a string vector and `factor` function."
      ],
      "metadata": {
        "id": "DVUQR6ejwQmE"
      }
    },
    {
      "cell_type": "code",
      "source": [
        "severities <- factor(c(\"severe\", \"mild\"), levels=c(\"mild\", \"moderate\", \"severe\"), ordered=TRUE)"
      ],
      "metadata": {
        "id": "mbwWdVwsvgh_"
      },
      "execution_count": 18,
      "outputs": []
    },
    {
      "cell_type": "code",
      "source": [
        "print(severities)"
      ],
      "metadata": {
        "colab": {
          "base_uri": "https://localhost:8080/"
        },
        "id": "n0COZOR4xHLG",
        "outputId": "5fed7ed1-c467-4b5e-d018-a2c6cf55c4a7"
      },
      "execution_count": 19,
      "outputs": [
        {
          "output_type": "stream",
          "name": "stdout",
          "text": [
            "[1] severe mild  \n",
            "Levels: mild < moderate < severe\n"
          ]
        }
      ]
    },
    {
      "cell_type": "code",
      "source": [
        "print(class(severities))\n",
        "print(typeof(severities))"
      ],
      "metadata": {
        "colab": {
          "base_uri": "https://localhost:8080/"
        },
        "id": "uiiMehyXxHQQ",
        "outputId": "640a8e10-d6a9-45c6-e2ae-b17cda8e5277"
      },
      "execution_count": 20,
      "outputs": [
        {
          "output_type": "stream",
          "name": "stdout",
          "text": [
            "[1] \"ordered\" \"factor\" \n",
            "[1] \"integer\"\n"
          ]
        }
      ]
    },
    {
      "cell_type": "markdown",
      "source": [
        "We can check if elements of a new vector are lager than the defined factor vector. `FALSE` will be returned for undefined values."
      ],
      "metadata": {
        "id": "9Xje5FP3yYQ6"
      }
    },
    {
      "cell_type": "code",
      "source": [
        "c(\"mild\", \"severe\", \"severe\", \"moderate\", \"undefined\") > \"moderate\""
      ],
      "metadata": {
        "colab": {
          "base_uri": "https://localhost:8080/",
          "height": 34
        },
        "id": "7WAq2DGoyofj",
        "outputId": "e3589a68-6d7c-49a6-b21e-815922b7d6d7"
      },
      "execution_count": 21,
      "outputs": [
        {
          "output_type": "display_data",
          "data": {
            "text/html": [
              "<style>\n",
              ".list-inline {list-style: none; margin:0; padding: 0}\n",
              ".list-inline>li {display: inline-block}\n",
              ".list-inline>li:not(:last-child)::after {content: \"\\00b7\"; padding: 0 .5ex}\n",
              "</style>\n",
              "<ol class=list-inline><li>FALSE</li><li>TRUE</li><li>TRUE</li><li>FALSE</li><li>TRUE</li></ol>\n"
            ],
            "text/markdown": "1. FALSE\n2. TRUE\n3. TRUE\n4. FALSE\n5. TRUE\n\n\n",
            "text/latex": "\\begin{enumerate*}\n\\item FALSE\n\\item TRUE\n\\item TRUE\n\\item FALSE\n\\item TRUE\n\\end{enumerate*}\n",
            "text/plain": [
              "[1] FALSE  TRUE  TRUE FALSE  TRUE"
            ]
          },
          "metadata": {}
        }
      ]
    },
    {
      "cell_type": "code",
      "source": [
        "c(\"mild\", \"severe\", \"severe\", \"moderate\", \"undefined\") > \"undefined\""
      ],
      "metadata": {
        "colab": {
          "base_uri": "https://localhost:8080/",
          "height": 34
        },
        "id": "sjdtdlZt4wGu",
        "outputId": "5e8f9c89-2b50-47b2-d231-7d07c2055264"
      },
      "execution_count": 22,
      "outputs": [
        {
          "output_type": "display_data",
          "data": {
            "text/html": [
              "<style>\n",
              ".list-inline {list-style: none; margin:0; padding: 0}\n",
              ".list-inline>li {display: inline-block}\n",
              ".list-inline>li:not(:last-child)::after {content: \"\\00b7\"; padding: 0 .5ex}\n",
              "</style>\n",
              "<ol class=list-inline><li>FALSE</li><li>FALSE</li><li>FALSE</li><li>FALSE</li><li>FALSE</li></ol>\n"
            ],
            "text/markdown": "1. FALSE\n2. FALSE\n3. FALSE\n4. FALSE\n5. FALSE\n\n\n",
            "text/latex": "\\begin{enumerate*}\n\\item FALSE\n\\item FALSE\n\\item FALSE\n\\item FALSE\n\\item FALSE\n\\end{enumerate*}\n",
            "text/plain": [
              "[1] FALSE FALSE FALSE FALSE FALSE"
            ]
          },
          "metadata": {}
        }
      ]
    },
    {
      "cell_type": "markdown",
      "source": [
        "## Element numbers"
      ],
      "metadata": {
        "id": "GIcUQufzuEJM"
      }
    },
    {
      "cell_type": "markdown",
      "source": [
        "Element numbers start from 1, not 0."
      ],
      "metadata": {
        "id": "q6ceXZZquKzY"
      }
    },
    {
      "cell_type": "code",
      "source": [
        "vector1 <- c(1, 2, 3, 4)\n",
        "print(vector1)\n",
        "print(vector1[1])"
      ],
      "metadata": {
        "colab": {
          "base_uri": "https://localhost:8080/"
        },
        "id": "WkT9iFFztai3",
        "outputId": "446d71e3-2e3e-40a6-bd84-d0c05098ddbc"
      },
      "execution_count": 23,
      "outputs": [
        {
          "output_type": "stream",
          "name": "stdout",
          "text": [
            "[1] 1 2 3 4\n",
            "[1] 1\n"
          ]
        }
      ]
    },
    {
      "cell_type": "code",
      "source": [
        "print(vector1)\n",
        "print(vector1[2:3])"
      ],
      "metadata": {
        "colab": {
          "base_uri": "https://localhost:8080/"
        },
        "id": "XEFDFsvTuel6",
        "outputId": "f3d08c1c-71aa-40d1-c332-ca2236eccb7f"
      },
      "execution_count": 24,
      "outputs": [
        {
          "output_type": "stream",
          "name": "stdout",
          "text": [
            "[1] 1 2 3 4\n",
            "[1] 2 3\n"
          ]
        }
      ]
    },
    {
      "cell_type": "markdown",
      "source": [
        "Minus numbers mean exclusion. This is different from that of Python."
      ],
      "metadata": {
        "id": "lmBYcLBourJD"
      }
    },
    {
      "cell_type": "code",
      "source": [
        "print(vector1)\n",
        "print(vector1[-3])"
      ],
      "metadata": {
        "colab": {
          "base_uri": "https://localhost:8080/"
        },
        "id": "1YVMNRoDupBJ",
        "outputId": "d1eaaa89-190c-4279-8a8e-0d35bc04c839"
      },
      "execution_count": 25,
      "outputs": [
        {
          "output_type": "stream",
          "name": "stdout",
          "text": [
            "[1] 1 2 3 4\n",
            "[1] 1 2 4\n"
          ]
        }
      ]
    },
    {
      "cell_type": "markdown",
      "source": [
        "With a logical vector."
      ],
      "metadata": {
        "id": "f38ToyMkvE0G"
      }
    },
    {
      "cell_type": "code",
      "source": [
        "print(vector1)\n",
        "print(vector1[c(TRUE, FALSE, FALSE, TRUE)])"
      ],
      "metadata": {
        "colab": {
          "base_uri": "https://localhost:8080/"
        },
        "id": "MHwPmwRTu7ED",
        "outputId": "1af78b1d-4364-444e-a0b4-7eb0d3e00cbf"
      },
      "execution_count": 26,
      "outputs": [
        {
          "output_type": "stream",
          "name": "stdout",
          "text": [
            "[1] 1 2 3 4\n",
            "[1] 1 4\n"
          ]
        }
      ]
    },
    {
      "cell_type": "markdown",
      "source": [
        "We can omit TRUE there."
      ],
      "metadata": {
        "id": "wNN3AbiivYN3"
      }
    },
    {
      "cell_type": "code",
      "source": [
        "print(vector1)\n",
        "print(vector1[c(TRUE, FALSE, FALSE)])"
      ],
      "metadata": {
        "colab": {
          "base_uri": "https://localhost:8080/"
        },
        "id": "XZyak2W8vMQk",
        "outputId": "1c133f74-50df-409d-9e22-e551bfd7ede4"
      },
      "execution_count": 27,
      "outputs": [
        {
          "output_type": "stream",
          "name": "stdout",
          "text": [
            "[1] 1 2 3 4\n",
            "[1] 1 4\n"
          ]
        }
      ]
    },
    {
      "cell_type": "markdown",
      "source": [
        "## Lists"
      ],
      "metadata": {
        "id": "CzDJkofjzuUl"
      }
    },
    {
      "cell_type": "code",
      "source": [
        "list1 <- list(strings=\"A\", doubles=1.2, integers=1L, logicals=TRUE, nas=NA, nulls=NULL)\n",
        "list1"
      ],
      "metadata": {
        "colab": {
          "base_uri": "https://localhost:8080/",
          "height": 253
        },
        "id": "2Fqkt4kWzx7U",
        "outputId": "bd0e1f78-b1c8-4b03-c474-c981a6bc0093"
      },
      "execution_count": 28,
      "outputs": [
        {
          "output_type": "display_data",
          "data": {
            "text/html": [
              "<dl>\n",
              "\t<dt>$strings</dt>\n",
              "\t\t<dd>'A'</dd>\n",
              "\t<dt>$doubles</dt>\n",
              "\t\t<dd>1.2</dd>\n",
              "\t<dt>$integers</dt>\n",
              "\t\t<dd>1</dd>\n",
              "\t<dt>$logicals</dt>\n",
              "\t\t<dd>TRUE</dd>\n",
              "\t<dt>$nas</dt>\n",
              "\t\t<dd>&lt;NA&gt;</dd>\n",
              "\t<dt>$nulls</dt>\n",
              "\t\t<dd>NULL</dd>\n",
              "</dl>\n"
            ],
            "text/markdown": "$strings\n:   'A'\n$doubles\n:   1.2\n$integers\n:   1\n$logicals\n:   TRUE\n$nas\n:   &lt;NA&gt;\n$nulls\n:   NULL\n\n\n",
            "text/latex": "\\begin{description}\n\\item[\\$strings] 'A'\n\\item[\\$doubles] 1.2\n\\item[\\$integers] 1\n\\item[\\$logicals] TRUE\n\\item[\\$nas] <NA>\n\\item[\\$nulls] NULL\n\\end{description}\n",
            "text/plain": [
              "$strings\n",
              "[1] \"A\"\n",
              "\n",
              "$doubles\n",
              "[1] 1.2\n",
              "\n",
              "$integers\n",
              "[1] 1\n",
              "\n",
              "$logicals\n",
              "[1] TRUE\n",
              "\n",
              "$nas\n",
              "[1] NA\n",
              "\n",
              "$nulls\n",
              "NULL\n"
            ]
          },
          "metadata": {}
        }
      ]
    },
    {
      "cell_type": "code",
      "source": [
        "print(class(list1))\n",
        "print(typeof(list1))"
      ],
      "metadata": {
        "colab": {
          "base_uri": "https://localhost:8080/"
        },
        "id": "p3S7wc9i36B9",
        "outputId": "5f129ddd-0318-43e0-e747-3647d6783d7a"
      },
      "execution_count": 29,
      "outputs": [
        {
          "output_type": "stream",
          "name": "stdout",
          "text": [
            "[1] \"list\"\n",
            "[1] \"list\"\n"
          ]
        }
      ]
    },
    {
      "cell_type": "code",
      "source": [
        "list1[2]"
      ],
      "metadata": {
        "colab": {
          "base_uri": "https://localhost:8080/",
          "height": 34
        },
        "id": "JbmOr9N40M8r",
        "outputId": "44e0342c-1079-4a8d-fbe3-7946b0ab9b55"
      },
      "execution_count": 30,
      "outputs": [
        {
          "output_type": "display_data",
          "data": {
            "text/html": [
              "<strong>$doubles</strong> = 1.2"
            ],
            "text/markdown": "**$doubles** = 1.2",
            "text/latex": "\\textbf{\\$doubles} = 1.2",
            "text/plain": [
              "$doubles\n",
              "[1] 1.2\n"
            ]
          },
          "metadata": {}
        }
      ]
    },
    {
      "cell_type": "code",
      "source": [
        "list1$doubles"
      ],
      "metadata": {
        "colab": {
          "base_uri": "https://localhost:8080/",
          "height": 34
        },
        "id": "aYhbADvM0qN-",
        "outputId": "81c9bd2b-9100-4fa7-b620-e7280c1eab73"
      },
      "execution_count": 31,
      "outputs": [
        {
          "output_type": "display_data",
          "data": {
            "text/html": [
              "1.2"
            ],
            "text/markdown": "1.2",
            "text/latex": "1.2",
            "text/plain": [
              "[1] 1.2"
            ]
          },
          "metadata": {}
        }
      ]
    },
    {
      "cell_type": "code",
      "source": [
        "list1[c(\"doubles\", \"logicals\")]"
      ],
      "metadata": {
        "colab": {
          "base_uri": "https://localhost:8080/",
          "height": 114
        },
        "id": "MoDtsk4Q0vFk",
        "outputId": "e18a4556-d7be-4ee5-d41f-11b6a1d83306"
      },
      "execution_count": 32,
      "outputs": [
        {
          "output_type": "display_data",
          "data": {
            "text/html": [
              "<dl>\n",
              "\t<dt>$doubles</dt>\n",
              "\t\t<dd>1.2</dd>\n",
              "\t<dt>$logicals</dt>\n",
              "\t\t<dd>TRUE</dd>\n",
              "</dl>\n"
            ],
            "text/markdown": "$doubles\n:   1.2\n$logicals\n:   TRUE\n\n\n",
            "text/latex": "\\begin{description}\n\\item[\\$doubles] 1.2\n\\item[\\$logicals] TRUE\n\\end{description}\n",
            "text/plain": [
              "$doubles\n",
              "[1] 1.2\n",
              "\n",
              "$logicals\n",
              "[1] TRUE\n"
            ]
          },
          "metadata": {}
        }
      ]
    },
    {
      "cell_type": "markdown",
      "source": [
        "## Dataframes"
      ],
      "metadata": {
        "id": "MtjkVhs51fbw"
      }
    },
    {
      "cell_type": "markdown",
      "source": [
        "### Create a dataframe\n",
        "We can create a dataframe with vectors and `data.frame` function."
      ],
      "metadata": {
        "id": "cbcwwkAz3xTU"
      }
    },
    {
      "cell_type": "code",
      "source": [
        "names <- c(\"John Doe\", \"Jane Doe\", \"Steve Graves\")\n",
        "temperatures <- c(98.1, 98.6, 101.4)\n",
        "flu_statuses <- c(FALSE, FALSE, TRUE)\n",
        "genders <- factor(c(\"MALE\", \"FEMALE\", \"MALE\"))\n",
        "blood_types <- factor(c(\"O\", \"AB\", \"A\"), levels = c(\"A\", \"B\", \"AB\", \"O\"))\n",
        "symptoms <- factor(c(\"SEVERE\", \"MILD\", \"MODERATE\"), levels = c(\"MILD\", \"MODERATE\", \"SEVERE\"), ordered = TRUE)"
      ],
      "metadata": {
        "id": "xDlNE6vK03i5"
      },
      "execution_count": 33,
      "outputs": []
    },
    {
      "cell_type": "code",
      "source": [
        "pt_df <- data.frame(names, temperatures, flu_statuses, genders, blood_types, symptoms, stringsAsFactors=FALSE)\n",
        "pt_df"
      ],
      "metadata": {
        "colab": {
          "base_uri": "https://localhost:8080/",
          "height": 192
        },
        "id": "_HGKb9st2dgS",
        "outputId": "5c292da9-8db2-4501-9ad5-688c6a9888d8"
      },
      "execution_count": 34,
      "outputs": [
        {
          "output_type": "display_data",
          "data": {
            "text/html": [
              "<table class=\"dataframe\">\n",
              "<caption>A data.frame: 3 × 6</caption>\n",
              "<thead>\n",
              "\t<tr><th scope=col>names</th><th scope=col>temperatures</th><th scope=col>flu_statuses</th><th scope=col>genders</th><th scope=col>blood_types</th><th scope=col>symptoms</th></tr>\n",
              "\t<tr><th scope=col>&lt;chr&gt;</th><th scope=col>&lt;dbl&gt;</th><th scope=col>&lt;lgl&gt;</th><th scope=col>&lt;fct&gt;</th><th scope=col>&lt;fct&gt;</th><th scope=col>&lt;ord&gt;</th></tr>\n",
              "</thead>\n",
              "<tbody>\n",
              "\t<tr><td>John Doe    </td><td> 98.1</td><td>FALSE</td><td>MALE  </td><td>O </td><td>SEVERE  </td></tr>\n",
              "\t<tr><td>Jane Doe    </td><td> 98.6</td><td>FALSE</td><td>FEMALE</td><td>AB</td><td>MILD    </td></tr>\n",
              "\t<tr><td>Steve Graves</td><td>101.4</td><td> TRUE</td><td>MALE  </td><td>A </td><td>MODERATE</td></tr>\n",
              "</tbody>\n",
              "</table>\n"
            ],
            "text/markdown": "\nA data.frame: 3 × 6\n\n| names &lt;chr&gt; | temperatures &lt;dbl&gt; | flu_statuses &lt;lgl&gt; | genders &lt;fct&gt; | blood_types &lt;fct&gt; | symptoms &lt;ord&gt; |\n|---|---|---|---|---|---|\n| John Doe     |  98.1 | FALSE | MALE   | O  | SEVERE   |\n| Jane Doe     |  98.6 | FALSE | FEMALE | AB | MILD     |\n| Steve Graves | 101.4 |  TRUE | MALE   | A  | MODERATE |\n\n",
            "text/latex": "A data.frame: 3 × 6\n\\begin{tabular}{llllll}\n names & temperatures & flu\\_statuses & genders & blood\\_types & symptoms\\\\\n <chr> & <dbl> & <lgl> & <fct> & <fct> & <ord>\\\\\n\\hline\n\t John Doe     &  98.1 & FALSE & MALE   & O  & SEVERE  \\\\\n\t Jane Doe     &  98.6 & FALSE & FEMALE & AB & MILD    \\\\\n\t Steve Graves & 101.4 &  TRUE & MALE   & A  & MODERATE\\\\\n\\end{tabular}\n",
            "text/plain": [
              "  names        temperatures flu_statuses genders blood_types symptoms\n",
              "1 John Doe      98.1        FALSE        MALE    O           SEVERE  \n",
              "2 Jane Doe      98.6        FALSE        FEMALE  AB          MILD    \n",
              "3 Steve Graves 101.4         TRUE        MALE    A           MODERATE"
            ]
          },
          "metadata": {}
        }
      ]
    },
    {
      "cell_type": "code",
      "source": [
        "print(class(pt_df))\n",
        "print(typeof(pt_df))"
      ],
      "metadata": {
        "colab": {
          "base_uri": "https://localhost:8080/"
        },
        "id": "RIxNZvkT300i",
        "outputId": "63b82b7d-e4ce-495f-a903-40a26e89a3aa"
      },
      "execution_count": 35,
      "outputs": [
        {
          "output_type": "stream",
          "name": "stdout",
          "text": [
            "[1] \"data.frame\"\n",
            "[1] \"list\"\n"
          ]
        }
      ]
    },
    {
      "cell_type": "markdown",
      "source": [
        "### Element selection"
      ],
      "metadata": {
        "id": "9tXHbT4k4Brm"
      }
    },
    {
      "cell_type": "code",
      "source": [
        "pt_df$names"
      ],
      "metadata": {
        "colab": {
          "base_uri": "https://localhost:8080/",
          "height": 34
        },
        "id": "5Strme492kZ3",
        "outputId": "0b77b13a-4b1d-4436-9c01-086ac2ca76f5"
      },
      "execution_count": 36,
      "outputs": [
        {
          "output_type": "display_data",
          "data": {
            "text/html": [
              "<style>\n",
              ".list-inline {list-style: none; margin:0; padding: 0}\n",
              ".list-inline>li {display: inline-block}\n",
              ".list-inline>li:not(:last-child)::after {content: \"\\00b7\"; padding: 0 .5ex}\n",
              "</style>\n",
              "<ol class=list-inline><li>'John Doe'</li><li>'Jane Doe'</li><li>'Steve Graves'</li></ol>\n"
            ],
            "text/markdown": "1. 'John Doe'\n2. 'Jane Doe'\n3. 'Steve Graves'\n\n\n",
            "text/latex": "\\begin{enumerate*}\n\\item 'John Doe'\n\\item 'Jane Doe'\n\\item 'Steve Graves'\n\\end{enumerate*}\n",
            "text/plain": [
              "[1] \"John Doe\"     \"Jane Doe\"     \"Steve Graves\""
            ]
          },
          "metadata": {}
        }
      ]
    },
    {
      "cell_type": "code",
      "source": [
        "pt_df[c(\"genders\", \"symptoms\")]"
      ],
      "metadata": {
        "colab": {
          "base_uri": "https://localhost:8080/",
          "height": 192
        },
        "id": "qzZNCIhz2u7j",
        "outputId": "27945ba1-2bf0-46b6-d689-351b36cff43b"
      },
      "execution_count": 37,
      "outputs": [
        {
          "output_type": "display_data",
          "data": {
            "text/html": [
              "<table class=\"dataframe\">\n",
              "<caption>A data.frame: 3 × 2</caption>\n",
              "<thead>\n",
              "\t<tr><th scope=col>genders</th><th scope=col>symptoms</th></tr>\n",
              "\t<tr><th scope=col>&lt;fct&gt;</th><th scope=col>&lt;ord&gt;</th></tr>\n",
              "</thead>\n",
              "<tbody>\n",
              "\t<tr><td>MALE  </td><td>SEVERE  </td></tr>\n",
              "\t<tr><td>FEMALE</td><td>MILD    </td></tr>\n",
              "\t<tr><td>MALE  </td><td>MODERATE</td></tr>\n",
              "</tbody>\n",
              "</table>\n"
            ],
            "text/markdown": "\nA data.frame: 3 × 2\n\n| genders &lt;fct&gt; | symptoms &lt;ord&gt; |\n|---|---|\n| MALE   | SEVERE   |\n| FEMALE | MILD     |\n| MALE   | MODERATE |\n\n",
            "text/latex": "A data.frame: 3 × 2\n\\begin{tabular}{ll}\n genders & symptoms\\\\\n <fct> & <ord>\\\\\n\\hline\n\t MALE   & SEVERE  \\\\\n\t FEMALE & MILD    \\\\\n\t MALE   & MODERATE\\\\\n\\end{tabular}\n",
            "text/plain": [
              "  genders symptoms\n",
              "1 MALE    SEVERE  \n",
              "2 FEMALE  MILD    \n",
              "3 MALE    MODERATE"
            ]
          },
          "metadata": {}
        }
      ]
    },
    {
      "cell_type": "code",
      "source": [
        "pt_df[c(1, 2), c(\"genders\", \"symptoms\")]"
      ],
      "metadata": {
        "colab": {
          "base_uri": "https://localhost:8080/",
          "height": 161
        },
        "id": "1mcCu0mb3aU_",
        "outputId": "3756f305-b4f4-4a7d-f5a9-46fb5090fb95"
      },
      "execution_count": 38,
      "outputs": [
        {
          "output_type": "display_data",
          "data": {
            "text/html": [
              "<table class=\"dataframe\">\n",
              "<caption>A data.frame: 2 × 2</caption>\n",
              "<thead>\n",
              "\t<tr><th></th><th scope=col>genders</th><th scope=col>symptoms</th></tr>\n",
              "\t<tr><th></th><th scope=col>&lt;fct&gt;</th><th scope=col>&lt;ord&gt;</th></tr>\n",
              "</thead>\n",
              "<tbody>\n",
              "\t<tr><th scope=row>1</th><td>MALE  </td><td>SEVERE</td></tr>\n",
              "\t<tr><th scope=row>2</th><td>FEMALE</td><td>MILD  </td></tr>\n",
              "</tbody>\n",
              "</table>\n"
            ],
            "text/markdown": "\nA data.frame: 2 × 2\n\n| <!--/--> | genders &lt;fct&gt; | symptoms &lt;ord&gt; |\n|---|---|---|\n| 1 | MALE   | SEVERE |\n| 2 | FEMALE | MILD   |\n\n",
            "text/latex": "A data.frame: 2 × 2\n\\begin{tabular}{r|ll}\n  & genders & symptoms\\\\\n  & <fct> & <ord>\\\\\n\\hline\n\t1 & MALE   & SEVERE\\\\\n\t2 & FEMALE & MILD  \\\\\n\\end{tabular}\n",
            "text/plain": [
              "  genders symptoms\n",
              "1 MALE    SEVERE  \n",
              "2 FEMALE  MILD    "
            ]
          },
          "metadata": {}
        }
      ]
    },
    {
      "cell_type": "code",
      "source": [
        "pt_df[1, 2]"
      ],
      "metadata": {
        "colab": {
          "base_uri": "https://localhost:8080/",
          "height": 34
        },
        "id": "glxM_yDc20tt",
        "outputId": "d5a02a49-a257-43b4-8941-e503981f8b0f"
      },
      "execution_count": 39,
      "outputs": [
        {
          "output_type": "display_data",
          "data": {
            "text/html": [
              "98.1"
            ],
            "text/markdown": "98.1",
            "text/latex": "98.1",
            "text/plain": [
              "[1] 98.1"
            ]
          },
          "metadata": {}
        }
      ]
    },
    {
      "cell_type": "code",
      "source": [
        "pt_df[c(1, 3), c(2, 4)]"
      ],
      "metadata": {
        "colab": {
          "base_uri": "https://localhost:8080/",
          "height": 161
        },
        "id": "K9WdTNHA23Ij",
        "outputId": "b919dc02-c75e-47ea-e6ea-41c904f55134"
      },
      "execution_count": 40,
      "outputs": [
        {
          "output_type": "display_data",
          "data": {
            "text/html": [
              "<table class=\"dataframe\">\n",
              "<caption>A data.frame: 2 × 2</caption>\n",
              "<thead>\n",
              "\t<tr><th></th><th scope=col>temperatures</th><th scope=col>genders</th></tr>\n",
              "\t<tr><th></th><th scope=col>&lt;dbl&gt;</th><th scope=col>&lt;fct&gt;</th></tr>\n",
              "</thead>\n",
              "<tbody>\n",
              "\t<tr><th scope=row>1</th><td> 98.1</td><td>MALE</td></tr>\n",
              "\t<tr><th scope=row>3</th><td>101.4</td><td>MALE</td></tr>\n",
              "</tbody>\n",
              "</table>\n"
            ],
            "text/markdown": "\nA data.frame: 2 × 2\n\n| <!--/--> | temperatures &lt;dbl&gt; | genders &lt;fct&gt; |\n|---|---|---|\n| 1 |  98.1 | MALE |\n| 3 | 101.4 | MALE |\n\n",
            "text/latex": "A data.frame: 2 × 2\n\\begin{tabular}{r|ll}\n  & temperatures & genders\\\\\n  & <dbl> & <fct>\\\\\n\\hline\n\t1 &  98.1 & MALE\\\\\n\t3 & 101.4 & MALE\\\\\n\\end{tabular}\n",
            "text/plain": [
              "  temperatures genders\n",
              "1  98.1        MALE   \n",
              "3 101.4        MALE   "
            ]
          },
          "metadata": {}
        }
      ]
    },
    {
      "cell_type": "code",
      "source": [
        "pt_df[1,]"
      ],
      "metadata": {
        "colab": {
          "base_uri": "https://localhost:8080/",
          "height": 129
        },
        "id": "KhWzboxc3KoT",
        "outputId": "4660c928-035c-4354-9259-ab80d684840f"
      },
      "execution_count": 41,
      "outputs": [
        {
          "output_type": "display_data",
          "data": {
            "text/html": [
              "<table class=\"dataframe\">\n",
              "<caption>A data.frame: 1 × 6</caption>\n",
              "<thead>\n",
              "\t<tr><th></th><th scope=col>names</th><th scope=col>temperatures</th><th scope=col>flu_statuses</th><th scope=col>genders</th><th scope=col>blood_types</th><th scope=col>symptoms</th></tr>\n",
              "\t<tr><th></th><th scope=col>&lt;chr&gt;</th><th scope=col>&lt;dbl&gt;</th><th scope=col>&lt;lgl&gt;</th><th scope=col>&lt;fct&gt;</th><th scope=col>&lt;fct&gt;</th><th scope=col>&lt;ord&gt;</th></tr>\n",
              "</thead>\n",
              "<tbody>\n",
              "\t<tr><th scope=row>1</th><td>John Doe</td><td>98.1</td><td>FALSE</td><td>MALE</td><td>O</td><td>SEVERE</td></tr>\n",
              "</tbody>\n",
              "</table>\n"
            ],
            "text/markdown": "\nA data.frame: 1 × 6\n\n| <!--/--> | names &lt;chr&gt; | temperatures &lt;dbl&gt; | flu_statuses &lt;lgl&gt; | genders &lt;fct&gt; | blood_types &lt;fct&gt; | symptoms &lt;ord&gt; |\n|---|---|---|---|---|---|---|\n| 1 | John Doe | 98.1 | FALSE | MALE | O | SEVERE |\n\n",
            "text/latex": "A data.frame: 1 × 6\n\\begin{tabular}{r|llllll}\n  & names & temperatures & flu\\_statuses & genders & blood\\_types & symptoms\\\\\n  & <chr> & <dbl> & <lgl> & <fct> & <fct> & <ord>\\\\\n\\hline\n\t1 & John Doe & 98.1 & FALSE & MALE & O & SEVERE\\\\\n\\end{tabular}\n",
            "text/plain": [
              "  names    temperatures flu_statuses genders blood_types symptoms\n",
              "1 John Doe 98.1         FALSE        MALE    O           SEVERE  "
            ]
          },
          "metadata": {}
        }
      ]
    },
    {
      "cell_type": "code",
      "source": [
        "pt_df[, 2]"
      ],
      "metadata": {
        "colab": {
          "base_uri": "https://localhost:8080/",
          "height": 34
        },
        "id": "-sMx2M6c27rm",
        "outputId": "ea7c8fb0-046d-4791-9102-b19007501d8d"
      },
      "execution_count": 42,
      "outputs": [
        {
          "output_type": "display_data",
          "data": {
            "text/html": [
              "<style>\n",
              ".list-inline {list-style: none; margin:0; padding: 0}\n",
              ".list-inline>li {display: inline-block}\n",
              ".list-inline>li:not(:last-child)::after {content: \"\\00b7\"; padding: 0 .5ex}\n",
              "</style>\n",
              "<ol class=list-inline><li>98.1</li><li>98.6</li><li>101.4</li></ol>\n"
            ],
            "text/markdown": "1. 98.1\n2. 98.6\n3. 101.4\n\n\n",
            "text/latex": "\\begin{enumerate*}\n\\item 98.1\n\\item 98.6\n\\item 101.4\n\\end{enumerate*}\n",
            "text/plain": [
              "[1]  98.1  98.6 101.4"
            ]
          },
          "metadata": {}
        }
      ]
    },
    {
      "cell_type": "code",
      "source": [
        "pt_df"
      ],
      "metadata": {
        "colab": {
          "base_uri": "https://localhost:8080/",
          "height": 192
        },
        "id": "Uaihixlf3HqK",
        "outputId": "c9149ca1-7a8f-4fdd-f26e-c26a9e414864"
      },
      "execution_count": 43,
      "outputs": [
        {
          "output_type": "display_data",
          "data": {
            "text/html": [
              "<table class=\"dataframe\">\n",
              "<caption>A data.frame: 3 × 6</caption>\n",
              "<thead>\n",
              "\t<tr><th scope=col>names</th><th scope=col>temperatures</th><th scope=col>flu_statuses</th><th scope=col>genders</th><th scope=col>blood_types</th><th scope=col>symptoms</th></tr>\n",
              "\t<tr><th scope=col>&lt;chr&gt;</th><th scope=col>&lt;dbl&gt;</th><th scope=col>&lt;lgl&gt;</th><th scope=col>&lt;fct&gt;</th><th scope=col>&lt;fct&gt;</th><th scope=col>&lt;ord&gt;</th></tr>\n",
              "</thead>\n",
              "<tbody>\n",
              "\t<tr><td>John Doe    </td><td> 98.1</td><td>FALSE</td><td>MALE  </td><td>O </td><td>SEVERE  </td></tr>\n",
              "\t<tr><td>Jane Doe    </td><td> 98.6</td><td>FALSE</td><td>FEMALE</td><td>AB</td><td>MILD    </td></tr>\n",
              "\t<tr><td>Steve Graves</td><td>101.4</td><td> TRUE</td><td>MALE  </td><td>A </td><td>MODERATE</td></tr>\n",
              "</tbody>\n",
              "</table>\n"
            ],
            "text/markdown": "\nA data.frame: 3 × 6\n\n| names &lt;chr&gt; | temperatures &lt;dbl&gt; | flu_statuses &lt;lgl&gt; | genders &lt;fct&gt; | blood_types &lt;fct&gt; | symptoms &lt;ord&gt; |\n|---|---|---|---|---|---|\n| John Doe     |  98.1 | FALSE | MALE   | O  | SEVERE   |\n| Jane Doe     |  98.6 | FALSE | FEMALE | AB | MILD     |\n| Steve Graves | 101.4 |  TRUE | MALE   | A  | MODERATE |\n\n",
            "text/latex": "A data.frame: 3 × 6\n\\begin{tabular}{llllll}\n names & temperatures & flu\\_statuses & genders & blood\\_types & symptoms\\\\\n <chr> & <dbl> & <lgl> & <fct> & <fct> & <ord>\\\\\n\\hline\n\t John Doe     &  98.1 & FALSE & MALE   & O  & SEVERE  \\\\\n\t Jane Doe     &  98.6 & FALSE & FEMALE & AB & MILD    \\\\\n\t Steve Graves & 101.4 &  TRUE & MALE   & A  & MODERATE\\\\\n\\end{tabular}\n",
            "text/plain": [
              "  names        temperatures flu_statuses genders blood_types symptoms\n",
              "1 John Doe      98.1        FALSE        MALE    O           SEVERE  \n",
              "2 Jane Doe      98.6        FALSE        FEMALE  AB          MILD    \n",
              "3 Steve Graves 101.4         TRUE        MALE    A           MODERATE"
            ]
          },
          "metadata": {}
        }
      ]
    },
    {
      "cell_type": "code",
      "source": [
        "pt_df[,]"
      ],
      "metadata": {
        "colab": {
          "base_uri": "https://localhost:8080/",
          "height": 192
        },
        "id": "31ShB5Q83SfZ",
        "outputId": "610b6b99-162c-4949-aa87-0e309b5c8d5e"
      },
      "execution_count": 44,
      "outputs": [
        {
          "output_type": "display_data",
          "data": {
            "text/html": [
              "<table class=\"dataframe\">\n",
              "<caption>A data.frame: 3 × 6</caption>\n",
              "<thead>\n",
              "\t<tr><th scope=col>names</th><th scope=col>temperatures</th><th scope=col>flu_statuses</th><th scope=col>genders</th><th scope=col>blood_types</th><th scope=col>symptoms</th></tr>\n",
              "\t<tr><th scope=col>&lt;chr&gt;</th><th scope=col>&lt;dbl&gt;</th><th scope=col>&lt;lgl&gt;</th><th scope=col>&lt;fct&gt;</th><th scope=col>&lt;fct&gt;</th><th scope=col>&lt;ord&gt;</th></tr>\n",
              "</thead>\n",
              "<tbody>\n",
              "\t<tr><td>John Doe    </td><td> 98.1</td><td>FALSE</td><td>MALE  </td><td>O </td><td>SEVERE  </td></tr>\n",
              "\t<tr><td>Jane Doe    </td><td> 98.6</td><td>FALSE</td><td>FEMALE</td><td>AB</td><td>MILD    </td></tr>\n",
              "\t<tr><td>Steve Graves</td><td>101.4</td><td> TRUE</td><td>MALE  </td><td>A </td><td>MODERATE</td></tr>\n",
              "</tbody>\n",
              "</table>\n"
            ],
            "text/markdown": "\nA data.frame: 3 × 6\n\n| names &lt;chr&gt; | temperatures &lt;dbl&gt; | flu_statuses &lt;lgl&gt; | genders &lt;fct&gt; | blood_types &lt;fct&gt; | symptoms &lt;ord&gt; |\n|---|---|---|---|---|---|\n| John Doe     |  98.1 | FALSE | MALE   | O  | SEVERE   |\n| Jane Doe     |  98.6 | FALSE | FEMALE | AB | MILD     |\n| Steve Graves | 101.4 |  TRUE | MALE   | A  | MODERATE |\n\n",
            "text/latex": "A data.frame: 3 × 6\n\\begin{tabular}{llllll}\n names & temperatures & flu\\_statuses & genders & blood\\_types & symptoms\\\\\n <chr> & <dbl> & <lgl> & <fct> & <fct> & <ord>\\\\\n\\hline\n\t John Doe     &  98.1 & FALSE & MALE   & O  & SEVERE  \\\\\n\t Jane Doe     &  98.6 & FALSE & FEMALE & AB & MILD    \\\\\n\t Steve Graves & 101.4 &  TRUE & MALE   & A  & MODERATE\\\\\n\\end{tabular}\n",
            "text/plain": [
              "  names        temperatures flu_statuses genders blood_types symptoms\n",
              "1 John Doe      98.1        FALSE        MALE    O           SEVERE  \n",
              "2 Jane Doe      98.6        FALSE        FEMALE  AB          MILD    \n",
              "3 Steve Graves 101.4         TRUE        MALE    A           MODERATE"
            ]
          },
          "metadata": {}
        }
      ]
    },
    {
      "cell_type": "code",
      "source": [
        "pt_df[-1,]"
      ],
      "metadata": {
        "colab": {
          "base_uri": "https://localhost:8080/",
          "height": 161
        },
        "id": "TLruxk5d3VFL",
        "outputId": "0758c50a-2c76-4fb7-ae2b-4a48123c0e84"
      },
      "execution_count": 45,
      "outputs": [
        {
          "output_type": "display_data",
          "data": {
            "text/html": [
              "<table class=\"dataframe\">\n",
              "<caption>A data.frame: 2 × 6</caption>\n",
              "<thead>\n",
              "\t<tr><th></th><th scope=col>names</th><th scope=col>temperatures</th><th scope=col>flu_statuses</th><th scope=col>genders</th><th scope=col>blood_types</th><th scope=col>symptoms</th></tr>\n",
              "\t<tr><th></th><th scope=col>&lt;chr&gt;</th><th scope=col>&lt;dbl&gt;</th><th scope=col>&lt;lgl&gt;</th><th scope=col>&lt;fct&gt;</th><th scope=col>&lt;fct&gt;</th><th scope=col>&lt;ord&gt;</th></tr>\n",
              "</thead>\n",
              "<tbody>\n",
              "\t<tr><th scope=row>2</th><td>Jane Doe    </td><td> 98.6</td><td>FALSE</td><td>FEMALE</td><td>AB</td><td>MILD    </td></tr>\n",
              "\t<tr><th scope=row>3</th><td>Steve Graves</td><td>101.4</td><td> TRUE</td><td>MALE  </td><td>A </td><td>MODERATE</td></tr>\n",
              "</tbody>\n",
              "</table>\n"
            ],
            "text/markdown": "\nA data.frame: 2 × 6\n\n| <!--/--> | names &lt;chr&gt; | temperatures &lt;dbl&gt; | flu_statuses &lt;lgl&gt; | genders &lt;fct&gt; | blood_types &lt;fct&gt; | symptoms &lt;ord&gt; |\n|---|---|---|---|---|---|---|\n| 2 | Jane Doe     |  98.6 | FALSE | FEMALE | AB | MILD     |\n| 3 | Steve Graves | 101.4 |  TRUE | MALE   | A  | MODERATE |\n\n",
            "text/latex": "A data.frame: 2 × 6\n\\begin{tabular}{r|llllll}\n  & names & temperatures & flu\\_statuses & genders & blood\\_types & symptoms\\\\\n  & <chr> & <dbl> & <lgl> & <fct> & <fct> & <ord>\\\\\n\\hline\n\t2 & Jane Doe     &  98.6 & FALSE & FEMALE & AB & MILD    \\\\\n\t3 & Steve Graves & 101.4 &  TRUE & MALE   & A  & MODERATE\\\\\n\\end{tabular}\n",
            "text/plain": [
              "  names        temperatures flu_statuses genders blood_types symptoms\n",
              "2 Jane Doe      98.6        FALSE        FEMALE  AB          MILD    \n",
              "3 Steve Graves 101.4         TRUE        MALE    A           MODERATE"
            ]
          },
          "metadata": {}
        }
      ]
    },
    {
      "cell_type": "markdown",
      "source": [
        "### Add new columns"
      ],
      "metadata": {
        "id": "33s7sORn46xw"
      }
    },
    {
      "cell_type": "code",
      "source": [
        "pt_df$celcius <- (pt_df$temperatures - 32) * 5 / 9\n",
        "pt_df[c(\"names\", \"temperatures\", \"celcius\")]"
      ],
      "metadata": {
        "colab": {
          "base_uri": "https://localhost:8080/",
          "height": 192
        },
        "id": "sJ6MNKCH3k7a",
        "outputId": "2c78ea66-1192-4bb8-97a6-9a43e8133b43"
      },
      "execution_count": 46,
      "outputs": [
        {
          "output_type": "display_data",
          "data": {
            "text/html": [
              "<table class=\"dataframe\">\n",
              "<caption>A data.frame: 3 × 3</caption>\n",
              "<thead>\n",
              "\t<tr><th scope=col>names</th><th scope=col>temperatures</th><th scope=col>celcius</th></tr>\n",
              "\t<tr><th scope=col>&lt;chr&gt;</th><th scope=col>&lt;dbl&gt;</th><th scope=col>&lt;dbl&gt;</th></tr>\n",
              "</thead>\n",
              "<tbody>\n",
              "\t<tr><td>John Doe    </td><td> 98.1</td><td>36.72222</td></tr>\n",
              "\t<tr><td>Jane Doe    </td><td> 98.6</td><td>37.00000</td></tr>\n",
              "\t<tr><td>Steve Graves</td><td>101.4</td><td>38.55556</td></tr>\n",
              "</tbody>\n",
              "</table>\n"
            ],
            "text/markdown": "\nA data.frame: 3 × 3\n\n| names &lt;chr&gt; | temperatures &lt;dbl&gt; | celcius &lt;dbl&gt; |\n|---|---|---|\n| John Doe     |  98.1 | 36.72222 |\n| Jane Doe     |  98.6 | 37.00000 |\n| Steve Graves | 101.4 | 38.55556 |\n\n",
            "text/latex": "A data.frame: 3 × 3\n\\begin{tabular}{lll}\n names & temperatures & celcius\\\\\n <chr> & <dbl> & <dbl>\\\\\n\\hline\n\t John Doe     &  98.1 & 36.72222\\\\\n\t Jane Doe     &  98.6 & 37.00000\\\\\n\t Steve Graves & 101.4 & 38.55556\\\\\n\\end{tabular}\n",
            "text/plain": [
              "  names        temperatures celcius \n",
              "1 John Doe      98.1        36.72222\n",
              "2 Jane Doe      98.6        37.00000\n",
              "3 Steve Graves 101.4        38.55556"
            ]
          },
          "metadata": {}
        }
      ]
    },
    {
      "cell_type": "markdown",
      "source": [
        "### Using CSV files"
      ],
      "metadata": {
        "id": "ehdThMpp9uLE"
      }
    },
    {
      "cell_type": "code",
      "source": [
        "pt_df"
      ],
      "metadata": {
        "colab": {
          "base_uri": "https://localhost:8080/",
          "height": 192
        },
        "id": "5mu9ynhd_5pc",
        "outputId": "9aca3880-a5a3-4fdc-ab04-eeef18c3ba7a"
      },
      "execution_count": 47,
      "outputs": [
        {
          "output_type": "display_data",
          "data": {
            "text/html": [
              "<table class=\"dataframe\">\n",
              "<caption>A data.frame: 3 × 7</caption>\n",
              "<thead>\n",
              "\t<tr><th scope=col>names</th><th scope=col>temperatures</th><th scope=col>flu_statuses</th><th scope=col>genders</th><th scope=col>blood_types</th><th scope=col>symptoms</th><th scope=col>celcius</th></tr>\n",
              "\t<tr><th scope=col>&lt;chr&gt;</th><th scope=col>&lt;dbl&gt;</th><th scope=col>&lt;lgl&gt;</th><th scope=col>&lt;fct&gt;</th><th scope=col>&lt;fct&gt;</th><th scope=col>&lt;ord&gt;</th><th scope=col>&lt;dbl&gt;</th></tr>\n",
              "</thead>\n",
              "<tbody>\n",
              "\t<tr><td>John Doe    </td><td> 98.1</td><td>FALSE</td><td>MALE  </td><td>O </td><td>SEVERE  </td><td>36.72222</td></tr>\n",
              "\t<tr><td>Jane Doe    </td><td> 98.6</td><td>FALSE</td><td>FEMALE</td><td>AB</td><td>MILD    </td><td>37.00000</td></tr>\n",
              "\t<tr><td>Steve Graves</td><td>101.4</td><td> TRUE</td><td>MALE  </td><td>A </td><td>MODERATE</td><td>38.55556</td></tr>\n",
              "</tbody>\n",
              "</table>\n"
            ],
            "text/markdown": "\nA data.frame: 3 × 7\n\n| names &lt;chr&gt; | temperatures &lt;dbl&gt; | flu_statuses &lt;lgl&gt; | genders &lt;fct&gt; | blood_types &lt;fct&gt; | symptoms &lt;ord&gt; | celcius &lt;dbl&gt; |\n|---|---|---|---|---|---|---|\n| John Doe     |  98.1 | FALSE | MALE   | O  | SEVERE   | 36.72222 |\n| Jane Doe     |  98.6 | FALSE | FEMALE | AB | MILD     | 37.00000 |\n| Steve Graves | 101.4 |  TRUE | MALE   | A  | MODERATE | 38.55556 |\n\n",
            "text/latex": "A data.frame: 3 × 7\n\\begin{tabular}{lllllll}\n names & temperatures & flu\\_statuses & genders & blood\\_types & symptoms & celcius\\\\\n <chr> & <dbl> & <lgl> & <fct> & <fct> & <ord> & <dbl>\\\\\n\\hline\n\t John Doe     &  98.1 & FALSE & MALE   & O  & SEVERE   & 36.72222\\\\\n\t Jane Doe     &  98.6 & FALSE & FEMALE & AB & MILD     & 37.00000\\\\\n\t Steve Graves & 101.4 &  TRUE & MALE   & A  & MODERATE & 38.55556\\\\\n\\end{tabular}\n",
            "text/plain": [
              "  names        temperatures flu_statuses genders blood_types symptoms celcius \n",
              "1 John Doe      98.1        FALSE        MALE    O           SEVERE   36.72222\n",
              "2 Jane Doe      98.6        FALSE        FEMALE  AB          MILD     37.00000\n",
              "3 Steve Graves 101.4         TRUE        MALE    A           MODERATE 38.55556"
            ]
          },
          "metadata": {}
        }
      ]
    },
    {
      "cell_type": "code",
      "source": [
        "write.csv(pt_df, file=\"pt.csv\", row.names=FALSE)"
      ],
      "metadata": {
        "id": "tpspuTcv90EV"
      },
      "execution_count": 48,
      "outputs": []
    },
    {
      "cell_type": "code",
      "source": [
        "pt_new <- read.csv(\"pt.csv\", stringsAsFactors=FALSE, header=TRUE)\n",
        "pt_new$symptoms <- factor(pt_new$symptoms, levels=c(\"MILD\", \"MODERATE\", \"SEVERE\"), ordered=TRUE)\n",
        "pt_new"
      ],
      "metadata": {
        "colab": {
          "base_uri": "https://localhost:8080/",
          "height": 192
        },
        "id": "UUJk8Lqe-G4A",
        "outputId": "092166f4-6087-4187-8811-62f1a32af985"
      },
      "execution_count": 49,
      "outputs": [
        {
          "output_type": "display_data",
          "data": {
            "text/html": [
              "<table class=\"dataframe\">\n",
              "<caption>A data.frame: 3 × 7</caption>\n",
              "<thead>\n",
              "\t<tr><th scope=col>names</th><th scope=col>temperatures</th><th scope=col>flu_statuses</th><th scope=col>genders</th><th scope=col>blood_types</th><th scope=col>symptoms</th><th scope=col>celcius</th></tr>\n",
              "\t<tr><th scope=col>&lt;chr&gt;</th><th scope=col>&lt;dbl&gt;</th><th scope=col>&lt;lgl&gt;</th><th scope=col>&lt;chr&gt;</th><th scope=col>&lt;chr&gt;</th><th scope=col>&lt;ord&gt;</th><th scope=col>&lt;dbl&gt;</th></tr>\n",
              "</thead>\n",
              "<tbody>\n",
              "\t<tr><td>John Doe    </td><td> 98.1</td><td>FALSE</td><td>MALE  </td><td>O </td><td>SEVERE  </td><td>36.72222</td></tr>\n",
              "\t<tr><td>Jane Doe    </td><td> 98.6</td><td>FALSE</td><td>FEMALE</td><td>AB</td><td>MILD    </td><td>37.00000</td></tr>\n",
              "\t<tr><td>Steve Graves</td><td>101.4</td><td> TRUE</td><td>MALE  </td><td>A </td><td>MODERATE</td><td>38.55556</td></tr>\n",
              "</tbody>\n",
              "</table>\n"
            ],
            "text/markdown": "\nA data.frame: 3 × 7\n\n| names &lt;chr&gt; | temperatures &lt;dbl&gt; | flu_statuses &lt;lgl&gt; | genders &lt;chr&gt; | blood_types &lt;chr&gt; | symptoms &lt;ord&gt; | celcius &lt;dbl&gt; |\n|---|---|---|---|---|---|---|\n| John Doe     |  98.1 | FALSE | MALE   | O  | SEVERE   | 36.72222 |\n| Jane Doe     |  98.6 | FALSE | FEMALE | AB | MILD     | 37.00000 |\n| Steve Graves | 101.4 |  TRUE | MALE   | A  | MODERATE | 38.55556 |\n\n",
            "text/latex": "A data.frame: 3 × 7\n\\begin{tabular}{lllllll}\n names & temperatures & flu\\_statuses & genders & blood\\_types & symptoms & celcius\\\\\n <chr> & <dbl> & <lgl> & <chr> & <chr> & <ord> & <dbl>\\\\\n\\hline\n\t John Doe     &  98.1 & FALSE & MALE   & O  & SEVERE   & 36.72222\\\\\n\t Jane Doe     &  98.6 & FALSE & FEMALE & AB & MILD     & 37.00000\\\\\n\t Steve Graves & 101.4 &  TRUE & MALE   & A  & MODERATE & 38.55556\\\\\n\\end{tabular}\n",
            "text/plain": [
              "  names        temperatures flu_statuses genders blood_types symptoms celcius \n",
              "1 John Doe      98.1        FALSE        MALE    O           SEVERE   36.72222\n",
              "2 Jane Doe      98.6        FALSE        FEMALE  AB          MILD     37.00000\n",
              "3 Steve Graves 101.4         TRUE        MALE    A           MODERATE 38.55556"
            ]
          },
          "metadata": {}
        }
      ]
    },
    {
      "cell_type": "markdown",
      "source": [
        "### Use sample data\n",
        "Sample datasets are listed on [R言語 サンプルデータ一覧](https://www.trifields.jp/r-sample-data-491).\n"
      ],
      "metadata": {
        "id": "G8vsYHQDAeX9"
      }
    },
    {
      "cell_type": "code",
      "source": [
        "titanic_raw <- data.frame(Titanic)\n",
        "titanic_raw[1:5,]"
      ],
      "metadata": {
        "colab": {
          "base_uri": "https://localhost:8080/",
          "height": 255
        },
        "id": "0qb3dGbfAhJw",
        "outputId": "e8a3114a-5a70-44ce-ef73-3cba5e27d884"
      },
      "execution_count": 50,
      "outputs": [
        {
          "output_type": "display_data",
          "data": {
            "text/html": [
              "<table class=\"dataframe\">\n",
              "<caption>A data.frame: 5 × 5</caption>\n",
              "<thead>\n",
              "\t<tr><th></th><th scope=col>Class</th><th scope=col>Sex</th><th scope=col>Age</th><th scope=col>Survived</th><th scope=col>Freq</th></tr>\n",
              "\t<tr><th></th><th scope=col>&lt;fct&gt;</th><th scope=col>&lt;fct&gt;</th><th scope=col>&lt;fct&gt;</th><th scope=col>&lt;fct&gt;</th><th scope=col>&lt;dbl&gt;</th></tr>\n",
              "</thead>\n",
              "<tbody>\n",
              "\t<tr><th scope=row>1</th><td>1st </td><td>Male  </td><td>Child</td><td>No</td><td> 0</td></tr>\n",
              "\t<tr><th scope=row>2</th><td>2nd </td><td>Male  </td><td>Child</td><td>No</td><td> 0</td></tr>\n",
              "\t<tr><th scope=row>3</th><td>3rd </td><td>Male  </td><td>Child</td><td>No</td><td>35</td></tr>\n",
              "\t<tr><th scope=row>4</th><td>Crew</td><td>Male  </td><td>Child</td><td>No</td><td> 0</td></tr>\n",
              "\t<tr><th scope=row>5</th><td>1st </td><td>Female</td><td>Child</td><td>No</td><td> 0</td></tr>\n",
              "</tbody>\n",
              "</table>\n"
            ],
            "text/markdown": "\nA data.frame: 5 × 5\n\n| <!--/--> | Class &lt;fct&gt; | Sex &lt;fct&gt; | Age &lt;fct&gt; | Survived &lt;fct&gt; | Freq &lt;dbl&gt; |\n|---|---|---|---|---|---|\n| 1 | 1st  | Male   | Child | No |  0 |\n| 2 | 2nd  | Male   | Child | No |  0 |\n| 3 | 3rd  | Male   | Child | No | 35 |\n| 4 | Crew | Male   | Child | No |  0 |\n| 5 | 1st  | Female | Child | No |  0 |\n\n",
            "text/latex": "A data.frame: 5 × 5\n\\begin{tabular}{r|lllll}\n  & Class & Sex & Age & Survived & Freq\\\\\n  & <fct> & <fct> & <fct> & <fct> & <dbl>\\\\\n\\hline\n\t1 & 1st  & Male   & Child & No &  0\\\\\n\t2 & 2nd  & Male   & Child & No &  0\\\\\n\t3 & 3rd  & Male   & Child & No & 35\\\\\n\t4 & Crew & Male   & Child & No &  0\\\\\n\t5 & 1st  & Female & Child & No &  0\\\\\n\\end{tabular}\n",
            "text/plain": [
              "  Class Sex    Age   Survived Freq\n",
              "1 1st   Male   Child No        0  \n",
              "2 2nd   Male   Child No        0  \n",
              "3 3rd   Male   Child No       35  \n",
              "4 Crew  Male   Child No        0  \n",
              "5 1st   Female Child No        0  "
            ]
          },
          "metadata": {}
        }
      ]
    },
    {
      "cell_type": "code",
      "source": [
        "str(titanic_raw)"
      ],
      "metadata": {
        "colab": {
          "base_uri": "https://localhost:8080/"
        },
        "id": "OV04GuwNClDh",
        "outputId": "d4813634-8fa7-43cb-99a4-67752e43fe05"
      },
      "execution_count": 51,
      "outputs": [
        {
          "output_type": "stream",
          "name": "stdout",
          "text": [
            "'data.frame':\t32 obs. of  5 variables:\n",
            " $ Class   : Factor w/ 4 levels \"1st\",\"2nd\",\"3rd\",..: 1 2 3 4 1 2 3 4 1 2 ...\n",
            " $ Sex     : Factor w/ 2 levels \"Male\",\"Female\": 1 1 1 1 2 2 2 2 1 1 ...\n",
            " $ Age     : Factor w/ 2 levels \"Child\",\"Adult\": 1 1 1 1 1 1 1 1 2 2 ...\n",
            " $ Survived: Factor w/ 2 levels \"No\",\"Yes\": 1 1 1 1 1 1 1 1 1 1 ...\n",
            " $ Freq    : num  0 0 35 0 0 0 17 0 118 154 ...\n"
          ]
        }
      ]
    },
    {
      "cell_type": "markdown",
      "source": [
        "Create a dataframe for each person by converting \"Freq\" column.\n",
        "\n",
        "Ref.  \n",
        "[Qiita: Rのサンプルデータで遊ぶ①](https://qiita.com/0_u0/items/450e985e88469b4bee4c)"
      ],
      "metadata": {
        "id": "t1hsfv4TBQjB"
      }
    },
    {
      "cell_type": "code",
      "source": [
        "titanic_df <- data.frame(lapply(titanic_raw, function(i){rep(i, titanic_raw[, 5])}))[-5]\n",
        "titanic_df[1:4,]"
      ],
      "metadata": {
        "colab": {
          "base_uri": "https://localhost:8080/",
          "height": 224
        },
        "id": "K45AOpdhBPox",
        "outputId": "bd1ed29d-92a6-4af1-f1f6-2648f45c2999"
      },
      "execution_count": 52,
      "outputs": [
        {
          "output_type": "display_data",
          "data": {
            "text/html": [
              "<table class=\"dataframe\">\n",
              "<caption>A data.frame: 4 × 4</caption>\n",
              "<thead>\n",
              "\t<tr><th></th><th scope=col>Class</th><th scope=col>Sex</th><th scope=col>Age</th><th scope=col>Survived</th></tr>\n",
              "\t<tr><th></th><th scope=col>&lt;fct&gt;</th><th scope=col>&lt;fct&gt;</th><th scope=col>&lt;fct&gt;</th><th scope=col>&lt;fct&gt;</th></tr>\n",
              "</thead>\n",
              "<tbody>\n",
              "\t<tr><th scope=row>1</th><td>3rd</td><td>Male</td><td>Child</td><td>No</td></tr>\n",
              "\t<tr><th scope=row>2</th><td>3rd</td><td>Male</td><td>Child</td><td>No</td></tr>\n",
              "\t<tr><th scope=row>3</th><td>3rd</td><td>Male</td><td>Child</td><td>No</td></tr>\n",
              "\t<tr><th scope=row>4</th><td>3rd</td><td>Male</td><td>Child</td><td>No</td></tr>\n",
              "</tbody>\n",
              "</table>\n"
            ],
            "text/markdown": "\nA data.frame: 4 × 4\n\n| <!--/--> | Class &lt;fct&gt; | Sex &lt;fct&gt; | Age &lt;fct&gt; | Survived &lt;fct&gt; |\n|---|---|---|---|---|\n| 1 | 3rd | Male | Child | No |\n| 2 | 3rd | Male | Child | No |\n| 3 | 3rd | Male | Child | No |\n| 4 | 3rd | Male | Child | No |\n\n",
            "text/latex": "A data.frame: 4 × 4\n\\begin{tabular}{r|llll}\n  & Class & Sex & Age & Survived\\\\\n  & <fct> & <fct> & <fct> & <fct>\\\\\n\\hline\n\t1 & 3rd & Male & Child & No\\\\\n\t2 & 3rd & Male & Child & No\\\\\n\t3 & 3rd & Male & Child & No\\\\\n\t4 & 3rd & Male & Child & No\\\\\n\\end{tabular}\n",
            "text/plain": [
              "  Class Sex  Age   Survived\n",
              "1 3rd   Male Child No      \n",
              "2 3rd   Male Child No      \n",
              "3 3rd   Male Child No      \n",
              "4 3rd   Male Child No      "
            ]
          },
          "metadata": {}
        }
      ]
    },
    {
      "cell_type": "code",
      "source": [
        "str(titanic_df)"
      ],
      "metadata": {
        "colab": {
          "base_uri": "https://localhost:8080/"
        },
        "id": "DwafWLpwCq9F",
        "outputId": "c997f143-9d98-42cf-eff7-6eed01a19d56"
      },
      "execution_count": 53,
      "outputs": [
        {
          "output_type": "stream",
          "name": "stdout",
          "text": [
            "'data.frame':\t2201 obs. of  4 variables:\n",
            " $ Class   : Factor w/ 4 levels \"1st\",\"2nd\",\"3rd\",..: 3 3 3 3 3 3 3 3 3 3 ...\n",
            " $ Sex     : Factor w/ 2 levels \"Male\",\"Female\": 1 1 1 1 1 1 1 1 1 1 ...\n",
            " $ Age     : Factor w/ 2 levels \"Child\",\"Adult\": 1 1 1 1 1 1 1 1 1 1 ...\n",
            " $ Survived: Factor w/ 2 levels \"No\",\"Yes\": 1 1 1 1 1 1 1 1 1 1 ...\n"
          ]
        }
      ]
    },
    {
      "cell_type": "code",
      "source": [
        "summary(titanic_df)"
      ],
      "metadata": {
        "colab": {
          "base_uri": "https://localhost:8080/",
          "height": 104
        },
        "id": "uxKl4jGQA56z",
        "outputId": "64b379a7-b653-412f-8ed9-e7c2003c28cc"
      },
      "execution_count": 54,
      "outputs": [
        {
          "output_type": "display_data",
          "data": {
            "text/plain": [
              "  Class         Sex          Age       Survived  \n",
              " 1st :325   Male  :1731   Child: 109   No :1490  \n",
              " 2nd :285   Female: 470   Adult:2092   Yes: 711  \n",
              " 3rd :706                                        \n",
              " Crew:885                                        "
            ]
          },
          "metadata": {}
        }
      ]
    },
    {
      "cell_type": "code",
      "source": [
        "air_raw <- data.frame(AirPassengers)\n",
        "str(air_raw)"
      ],
      "metadata": {
        "colab": {
          "base_uri": "https://localhost:8080/"
        },
        "id": "pN5lOnt3C8bW",
        "outputId": "8d02b1ed-be63-4cfd-9a9d-a47b7311c51a"
      },
      "execution_count": 55,
      "outputs": [
        {
          "output_type": "stream",
          "name": "stdout",
          "text": [
            "'data.frame':\t144 obs. of  1 variable:\n",
            " $ AirPassengers: Time-Series  from 1949 to 1961: 112 118 132 129 121 135 148 148 136 119 ...\n"
          ]
        }
      ]
    },
    {
      "cell_type": "code",
      "source": [
        "summary(air_raw)"
      ],
      "metadata": {
        "colab": {
          "base_uri": "https://localhost:8080/",
          "height": 139
        },
        "id": "uRwlVG19Dh_h",
        "outputId": "a0687b40-59c1-44b4-9866-dbcae22871c7"
      },
      "execution_count": 56,
      "outputs": [
        {
          "output_type": "display_data",
          "data": {
            "text/plain": [
              " AirPassengers  \n",
              " Min.   :104.0  \n",
              " 1st Qu.:180.0  \n",
              " Median :265.5  \n",
              " Mean   :280.3  \n",
              " 3rd Qu.:360.5  \n",
              " Max.   :622.0  "
            ]
          },
          "metadata": {}
        }
      ]
    },
    {
      "cell_type": "markdown",
      "source": [
        "## Matrix"
      ],
      "metadata": {
        "id": "kUDs_Sm75yaK"
      }
    },
    {
      "cell_type": "markdown",
      "source": [
        "### Create a matrix"
      ],
      "metadata": {
        "id": "e3wJVGBC52_M"
      }
    },
    {
      "cell_type": "markdown",
      "source": [
        "Specifing the number of rows,"
      ],
      "metadata": {
        "id": "gZP_cvkJ6EGo"
      }
    },
    {
      "cell_type": "code",
      "source": [
        "m1 <- matrix(c(1, 2, 3, 4, 5, 6), nrow=2, byrow=FALSE)\n",
        "m1"
      ],
      "metadata": {
        "colab": {
          "base_uri": "https://localhost:8080/",
          "height": 132
        },
        "id": "nyLSlJcn51YK",
        "outputId": "cdbd825b-c7ed-4828-9b49-0407a50baf76"
      },
      "execution_count": 57,
      "outputs": [
        {
          "output_type": "display_data",
          "data": {
            "text/html": [
              "<table class=\"dataframe\">\n",
              "<caption>A matrix: 2 × 3 of type dbl</caption>\n",
              "<tbody>\n",
              "\t<tr><td>1</td><td>3</td><td>5</td></tr>\n",
              "\t<tr><td>2</td><td>4</td><td>6</td></tr>\n",
              "</tbody>\n",
              "</table>\n"
            ],
            "text/markdown": "\nA matrix: 2 × 3 of type dbl\n\n| 1 | 3 | 5 |\n| 2 | 4 | 6 |\n\n",
            "text/latex": "A matrix: 2 × 3 of type dbl\n\\begin{tabular}{lll}\n\t 1 & 3 & 5\\\\\n\t 2 & 4 & 6\\\\\n\\end{tabular}\n",
            "text/plain": [
              "     [,1] [,2] [,3]\n",
              "[1,] 1    3    5   \n",
              "[2,] 2    4    6   "
            ]
          },
          "metadata": {}
        }
      ]
    },
    {
      "cell_type": "markdown",
      "source": [
        "Specifing the number of columns,"
      ],
      "metadata": {
        "id": "_vfamiyz6M_F"
      }
    },
    {
      "cell_type": "code",
      "source": [
        "m2 <- matrix(c(1, 2, 3, 4, 5, 6), ncol=2, byrow=FALSE)\n",
        "m2"
      ],
      "metadata": {
        "colab": {
          "base_uri": "https://localhost:8080/",
          "height": 198
        },
        "id": "SPI3a1tU5MUu",
        "outputId": "ad461d80-6b34-4173-c158-aafe970de964"
      },
      "execution_count": 58,
      "outputs": [
        {
          "output_type": "display_data",
          "data": {
            "text/html": [
              "<table class=\"dataframe\">\n",
              "<caption>A matrix: 3 × 2 of type dbl</caption>\n",
              "<tbody>\n",
              "\t<tr><td>1</td><td>4</td></tr>\n",
              "\t<tr><td>2</td><td>5</td></tr>\n",
              "\t<tr><td>3</td><td>6</td></tr>\n",
              "</tbody>\n",
              "</table>\n"
            ],
            "text/markdown": "\nA matrix: 3 × 2 of type dbl\n\n| 1 | 4 |\n| 2 | 5 |\n| 3 | 6 |\n\n",
            "text/latex": "A matrix: 3 × 2 of type dbl\n\\begin{tabular}{ll}\n\t 1 & 4\\\\\n\t 2 & 5\\\\\n\t 3 & 6\\\\\n\\end{tabular}\n",
            "text/plain": [
              "     [,1] [,2]\n",
              "[1,] 1    4   \n",
              "[2,] 2    5   \n",
              "[3,] 3    6   "
            ]
          },
          "metadata": {}
        }
      ]
    },
    {
      "cell_type": "markdown",
      "source": [
        "By row,"
      ],
      "metadata": {
        "id": "9KHKgntv67ef"
      }
    },
    {
      "cell_type": "code",
      "source": [
        "m3 <- matrix(c(1, 2, 3, 4, 5, 6), nrow=2, byrow=TRUE)\n",
        "m3"
      ],
      "metadata": {
        "colab": {
          "base_uri": "https://localhost:8080/",
          "height": 132
        },
        "id": "-JlAa4dI6ST6",
        "outputId": "b3f2cc77-c195-428c-ba69-7d3813a66afb"
      },
      "execution_count": 59,
      "outputs": [
        {
          "output_type": "display_data",
          "data": {
            "text/html": [
              "<table class=\"dataframe\">\n",
              "<caption>A matrix: 2 × 3 of type dbl</caption>\n",
              "<tbody>\n",
              "\t<tr><td>1</td><td>2</td><td>3</td></tr>\n",
              "\t<tr><td>4</td><td>5</td><td>6</td></tr>\n",
              "</tbody>\n",
              "</table>\n"
            ],
            "text/markdown": "\nA matrix: 2 × 3 of type dbl\n\n| 1 | 2 | 3 |\n| 4 | 5 | 6 |\n\n",
            "text/latex": "A matrix: 2 × 3 of type dbl\n\\begin{tabular}{lll}\n\t 1 & 2 & 3\\\\\n\t 4 & 5 & 6\\\\\n\\end{tabular}\n",
            "text/plain": [
              "     [,1] [,2] [,3]\n",
              "[1,] 1    2    3   \n",
              "[2,] 4    5    6   "
            ]
          },
          "metadata": {}
        }
      ]
    },
    {
      "cell_type": "code",
      "source": [
        "print(class(m3))\n",
        "print(typeof(m3))"
      ],
      "metadata": {
        "colab": {
          "base_uri": "https://localhost:8080/"
        },
        "id": "CikFKp7x7oAD",
        "outputId": "a6dc6720-e251-4095-cc5c-7b6012fcabeb"
      },
      "execution_count": 60,
      "outputs": [
        {
          "output_type": "stream",
          "name": "stdout",
          "text": [
            "[1] \"matrix\" \"array\" \n",
            "[1] \"double\"\n"
          ]
        }
      ]
    },
    {
      "cell_type": "markdown",
      "source": [
        "### Element selection"
      ],
      "metadata": {
        "id": "oIMIC6Cc7M38"
      }
    },
    {
      "cell_type": "code",
      "source": [
        "m3[,]"
      ],
      "metadata": {
        "colab": {
          "base_uri": "https://localhost:8080/",
          "height": 132
        },
        "id": "BGJrEHTb7eBh",
        "outputId": "7d59f027-8279-444d-e815-05bc780d3150"
      },
      "execution_count": 61,
      "outputs": [
        {
          "output_type": "display_data",
          "data": {
            "text/html": [
              "<table class=\"dataframe\">\n",
              "<caption>A matrix: 2 × 3 of type dbl</caption>\n",
              "<tbody>\n",
              "\t<tr><td>1</td><td>2</td><td>3</td></tr>\n",
              "\t<tr><td>4</td><td>5</td><td>6</td></tr>\n",
              "</tbody>\n",
              "</table>\n"
            ],
            "text/markdown": "\nA matrix: 2 × 3 of type dbl\n\n| 1 | 2 | 3 |\n| 4 | 5 | 6 |\n\n",
            "text/latex": "A matrix: 2 × 3 of type dbl\n\\begin{tabular}{lll}\n\t 1 & 2 & 3\\\\\n\t 4 & 5 & 6\\\\\n\\end{tabular}\n",
            "text/plain": [
              "     [,1] [,2] [,3]\n",
              "[1,] 1    2    3   \n",
              "[2,] 4    5    6   "
            ]
          },
          "metadata": {}
        }
      ]
    },
    {
      "cell_type": "code",
      "source": [
        "m3[1, 1]"
      ],
      "metadata": {
        "colab": {
          "base_uri": "https://localhost:8080/",
          "height": 34
        },
        "id": "vN057EAU7Cwh",
        "outputId": "dfc5d3af-add9-4113-f925-e81bd57b64f5"
      },
      "execution_count": 62,
      "outputs": [
        {
          "output_type": "display_data",
          "data": {
            "text/html": [
              "1"
            ],
            "text/markdown": "1",
            "text/latex": "1",
            "text/plain": [
              "[1] 1"
            ]
          },
          "metadata": {}
        }
      ]
    },
    {
      "cell_type": "code",
      "source": [
        "m3[1,]"
      ],
      "metadata": {
        "colab": {
          "base_uri": "https://localhost:8080/",
          "height": 34
        },
        "id": "h7r4-XOR7XSf",
        "outputId": "3931fae4-8891-437b-b6c3-6846894d5757"
      },
      "execution_count": 63,
      "outputs": [
        {
          "output_type": "display_data",
          "data": {
            "text/html": [
              "<style>\n",
              ".list-inline {list-style: none; margin:0; padding: 0}\n",
              ".list-inline>li {display: inline-block}\n",
              ".list-inline>li:not(:last-child)::after {content: \"\\00b7\"; padding: 0 .5ex}\n",
              "</style>\n",
              "<ol class=list-inline><li>1</li><li>2</li><li>3</li></ol>\n"
            ],
            "text/markdown": "1. 1\n2. 2\n3. 3\n\n\n",
            "text/latex": "\\begin{enumerate*}\n\\item 1\n\\item 2\n\\item 3\n\\end{enumerate*}\n",
            "text/plain": [
              "[1] 1 2 3"
            ]
          },
          "metadata": {}
        }
      ]
    },
    {
      "cell_type": "code",
      "source": [
        "m3[,2]"
      ],
      "metadata": {
        "colab": {
          "base_uri": "https://localhost:8080/",
          "height": 34
        },
        "id": "R8rqD5jn7Y1R",
        "outputId": "58483f10-9ec7-4a0a-8f5f-c1ba9a81e4fb"
      },
      "execution_count": 64,
      "outputs": [
        {
          "output_type": "display_data",
          "data": {
            "text/html": [
              "<style>\n",
              ".list-inline {list-style: none; margin:0; padding: 0}\n",
              ".list-inline>li {display: inline-block}\n",
              ".list-inline>li:not(:last-child)::after {content: \"\\00b7\"; padding: 0 .5ex}\n",
              "</style>\n",
              "<ol class=list-inline><li>2</li><li>5</li></ol>\n"
            ],
            "text/markdown": "1. 2\n2. 5\n\n\n",
            "text/latex": "\\begin{enumerate*}\n\\item 2\n\\item 5\n\\end{enumerate*}\n",
            "text/plain": [
              "[1] 2 5"
            ]
          },
          "metadata": {}
        }
      ]
    },
    {
      "cell_type": "markdown",
      "source": [
        "## Saving ofjects to RData file"
      ],
      "metadata": {
        "id": "YDixeQlT8ERV"
      }
    },
    {
      "cell_type": "code",
      "source": [
        "save(pt_df, m3, file=\"data_types.RData\")"
      ],
      "metadata": {
        "id": "Z70HPMNG8HfR"
      },
      "execution_count": 65,
      "outputs": []
    },
    {
      "cell_type": "markdown",
      "source": [
        "Loading:"
      ],
      "metadata": {
        "id": "ylfOs4Iq80-1"
      }
    },
    {
      "cell_type": "code",
      "source": [
        "load(file=\"data_types.RData\")"
      ],
      "metadata": {
        "id": "gOexz0GZ8csS"
      },
      "execution_count": 66,
      "outputs": []
    },
    {
      "cell_type": "markdown",
      "source": [
        "### Saving all objects"
      ],
      "metadata": {
        "id": "R6d_hGMS9GvI"
      }
    },
    {
      "cell_type": "code",
      "source": [
        "ls()"
      ],
      "metadata": {
        "colab": {
          "base_uri": "https://localhost:8080/",
          "height": 52
        },
        "id": "s1Z0tymU8ppy",
        "outputId": "cef539ac-ed5e-41ad-d079-98f29c2cfa1c"
      },
      "execution_count": 67,
      "outputs": [
        {
          "output_type": "display_data",
          "data": {
            "text/html": [
              "<style>\n",
              ".list-inline {list-style: none; margin:0; padding: 0}\n",
              ".list-inline>li {display: inline-block}\n",
              ".list-inline>li:not(:last-child)::after {content: \"\\00b7\"; padding: 0 .5ex}\n",
              "</style>\n",
              "<ol class=list-inline><li>'air_raw'</li><li>'blood_types'</li><li>'doubles'</li><li>'doubles_with_NAs'</li><li>'flu_statuses'</li><li>'genders'</li><li>'integers'</li><li>'list1'</li><li>'logicals'</li><li>'m1'</li><li>'m2'</li><li>'m3'</li><li>'names'</li><li>'pt_df'</li><li>'pt_new'</li><li>'severities'</li><li>'strings'</li><li>'symptoms'</li><li>'temperatures'</li><li>'titanic_df'</li><li>'titanic_raw'</li><li>'vector1'</li></ol>\n"
            ],
            "text/markdown": "1. 'air_raw'\n2. 'blood_types'\n3. 'doubles'\n4. 'doubles_with_NAs'\n5. 'flu_statuses'\n6. 'genders'\n7. 'integers'\n8. 'list1'\n9. 'logicals'\n10. 'm1'\n11. 'm2'\n12. 'm3'\n13. 'names'\n14. 'pt_df'\n15. 'pt_new'\n16. 'severities'\n17. 'strings'\n18. 'symptoms'\n19. 'temperatures'\n20. 'titanic_df'\n21. 'titanic_raw'\n22. 'vector1'\n\n\n",
            "text/latex": "\\begin{enumerate*}\n\\item 'air\\_raw'\n\\item 'blood\\_types'\n\\item 'doubles'\n\\item 'doubles\\_with\\_NAs'\n\\item 'flu\\_statuses'\n\\item 'genders'\n\\item 'integers'\n\\item 'list1'\n\\item 'logicals'\n\\item 'm1'\n\\item 'm2'\n\\item 'm3'\n\\item 'names'\n\\item 'pt\\_df'\n\\item 'pt\\_new'\n\\item 'severities'\n\\item 'strings'\n\\item 'symptoms'\n\\item 'temperatures'\n\\item 'titanic\\_df'\n\\item 'titanic\\_raw'\n\\item 'vector1'\n\\end{enumerate*}\n",
            "text/plain": [
              " [1] \"air_raw\"          \"blood_types\"      \"doubles\"          \"doubles_with_NAs\"\n",
              " [5] \"flu_statuses\"     \"genders\"          \"integers\"         \"list1\"           \n",
              " [9] \"logicals\"         \"m1\"               \"m2\"               \"m3\"              \n",
              "[13] \"names\"            \"pt_df\"            \"pt_new\"           \"severities\"      \n",
              "[17] \"strings\"          \"symptoms\"         \"temperatures\"     \"titanic_df\"      \n",
              "[21] \"titanic_raw\"      \"vector1\"         "
            ]
          },
          "metadata": {}
        }
      ]
    },
    {
      "cell_type": "code",
      "source": [
        "rm(m1, m3)"
      ],
      "metadata": {
        "id": "RCG3iHba9IsG"
      },
      "execution_count": 68,
      "outputs": []
    },
    {
      "cell_type": "code",
      "source": [
        "save.image(file=\"all.RData\")"
      ],
      "metadata": {
        "id": "tNF5iHDy9Msg"
      },
      "execution_count": 69,
      "outputs": []
    },
    {
      "cell_type": "code",
      "source": [
        "rm(list=ls())"
      ],
      "metadata": {
        "id": "F-p7fABx9b73"
      },
      "execution_count": 70,
      "outputs": []
    },
    {
      "cell_type": "code",
      "source": [
        "ls()"
      ],
      "metadata": {
        "colab": {
          "base_uri": "https://localhost:8080/",
          "height": 17
        },
        "id": "6G8YNiX09fSh",
        "outputId": "06baeda9-34bb-4b41-e9d8-e390710165d2"
      },
      "execution_count": 71,
      "outputs": [
        {
          "output_type": "display_data",
          "data": {
            "text/html": [],
            "text/markdown": "",
            "text/latex": "",
            "text/plain": [
              "character(0)"
            ]
          },
          "metadata": {}
        }
      ]
    },
    {
      "cell_type": "code",
      "source": [
        "load(file=\"all.RData\")"
      ],
      "metadata": {
        "id": "yu0umVc_9iJu"
      },
      "execution_count": 72,
      "outputs": []
    },
    {
      "cell_type": "code",
      "source": [
        "ls()"
      ],
      "metadata": {
        "colab": {
          "base_uri": "https://localhost:8080/",
          "height": 52
        },
        "id": "hso8elTZ9kdI",
        "outputId": "9009024c-7b3f-40f3-e8fc-504a6170b3b9"
      },
      "execution_count": 73,
      "outputs": [
        {
          "output_type": "display_data",
          "data": {
            "text/html": [
              "<style>\n",
              ".list-inline {list-style: none; margin:0; padding: 0}\n",
              ".list-inline>li {display: inline-block}\n",
              ".list-inline>li:not(:last-child)::after {content: \"\\00b7\"; padding: 0 .5ex}\n",
              "</style>\n",
              "<ol class=list-inline><li>'air_raw'</li><li>'blood_types'</li><li>'doubles'</li><li>'doubles_with_NAs'</li><li>'flu_statuses'</li><li>'genders'</li><li>'integers'</li><li>'list1'</li><li>'logicals'</li><li>'m2'</li><li>'names'</li><li>'pt_df'</li><li>'pt_new'</li><li>'severities'</li><li>'strings'</li><li>'symptoms'</li><li>'temperatures'</li><li>'titanic_df'</li><li>'titanic_raw'</li><li>'vector1'</li></ol>\n"
            ],
            "text/markdown": "1. 'air_raw'\n2. 'blood_types'\n3. 'doubles'\n4. 'doubles_with_NAs'\n5. 'flu_statuses'\n6. 'genders'\n7. 'integers'\n8. 'list1'\n9. 'logicals'\n10. 'm2'\n11. 'names'\n12. 'pt_df'\n13. 'pt_new'\n14. 'severities'\n15. 'strings'\n16. 'symptoms'\n17. 'temperatures'\n18. 'titanic_df'\n19. 'titanic_raw'\n20. 'vector1'\n\n\n",
            "text/latex": "\\begin{enumerate*}\n\\item 'air\\_raw'\n\\item 'blood\\_types'\n\\item 'doubles'\n\\item 'doubles\\_with\\_NAs'\n\\item 'flu\\_statuses'\n\\item 'genders'\n\\item 'integers'\n\\item 'list1'\n\\item 'logicals'\n\\item 'm2'\n\\item 'names'\n\\item 'pt\\_df'\n\\item 'pt\\_new'\n\\item 'severities'\n\\item 'strings'\n\\item 'symptoms'\n\\item 'temperatures'\n\\item 'titanic\\_df'\n\\item 'titanic\\_raw'\n\\item 'vector1'\n\\end{enumerate*}\n",
            "text/plain": [
              " [1] \"air_raw\"          \"blood_types\"      \"doubles\"          \"doubles_with_NAs\"\n",
              " [5] \"flu_statuses\"     \"genders\"          \"integers\"         \"list1\"           \n",
              " [9] \"logicals\"         \"m2\"               \"names\"            \"pt_df\"           \n",
              "[13] \"pt_new\"           \"severities\"       \"strings\"          \"symptoms\"        \n",
              "[17] \"temperatures\"     \"titanic_df\"       \"titanic_raw\"      \"vector1\"         "
            ]
          },
          "metadata": {}
        }
      ]
    }
  ]
}