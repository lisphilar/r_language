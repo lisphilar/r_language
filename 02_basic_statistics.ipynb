{
  "nbformat": 4,
  "nbformat_minor": 0,
  "metadata": {
    "colab": {
      "provenance": [],
      "toc_visible": true,
      "authorship_tag": "ABX9TyOPw+gIWo+7svBsPcztH9Ol",
      "include_colab_link": true
    },
    "kernelspec": {
      "name": "ir",
      "display_name": "R"
    },
    "language_info": {
      "name": "R"
    }
  },
  "cells": [
    {
      "cell_type": "markdown",
      "metadata": {
        "id": "view-in-github",
        "colab_type": "text"
      },
      "source": [
        "<a href=\"https://colab.research.google.com/github/lisphilar/r_language/blob/main/02_basic_statistics.ipynb\" target=\"_parent\"><img src=\"https://colab.research.google.com/assets/colab-badge.svg\" alt=\"Open In Colab\"/></a>"
      ]
    },
    {
      "cell_type": "markdown",
      "source": [
        "# R language: basic statistics\n",
        "We will learn R language tools for basic statistics."
      ],
      "metadata": {
        "id": "6q_-mzMf8dGM"
      }
    },
    {
      "cell_type": "code",
      "execution_count": 1,
      "metadata": {
        "colab": {
          "base_uri": "https://localhost:8080/"
        },
        "id": "--jOfldn77fF",
        "outputId": "b52bbb6f-b1bc-4a69-a52a-b6b9ffaa5b28"
      },
      "outputs": [
        {
          "output_type": "stream",
          "name": "stdout",
          "text": [
            "[1] \"R version 4.3.1 (2023-06-16)\"\n"
          ]
        }
      ],
      "source": [
        "print(R.version.string)"
      ]
    },
    {
      "cell_type": "markdown",
      "source": [
        "For cross table,"
      ],
      "metadata": {
        "id": "Hwb4G8ZAFKxA"
      }
    },
    {
      "cell_type": "code",
      "source": [
        "install.packages(\"gmodels\")\n",
        "library(gmodels)"
      ],
      "metadata": {
        "colab": {
          "base_uri": "https://localhost:8080/"
        },
        "id": "Hmys86MHFG7b",
        "outputId": "dbbacd62-c402-4abb-826d-b1f8dfc8ec62"
      },
      "execution_count": 53,
      "outputs": [
        {
          "output_type": "stream",
          "name": "stderr",
          "text": [
            "Installing package into ‘/usr/local/lib/R/site-library’\n",
            "(as ‘lib’ is unspecified)\n",
            "\n"
          ]
        }
      ]
    },
    {
      "cell_type": "markdown",
      "source": [
        "## Data structure"
      ],
      "metadata": {
        "id": "hUzk2sge84Ev"
      }
    },
    {
      "cell_type": "code",
      "source": [
        "str(iris)"
      ],
      "metadata": {
        "colab": {
          "base_uri": "https://localhost:8080/"
        },
        "id": "BXuA377U8-qZ",
        "outputId": "9f1e473d-87d4-48bc-ac4a-7bcc6399178c"
      },
      "execution_count": 2,
      "outputs": [
        {
          "output_type": "stream",
          "name": "stdout",
          "text": [
            "'data.frame':\t150 obs. of  5 variables:\n",
            " $ Sepal.Length: num  5.1 4.9 4.7 4.6 5 5.4 4.6 5 4.4 4.9 ...\n",
            " $ Sepal.Width : num  3.5 3 3.2 3.1 3.6 3.9 3.4 3.4 2.9 3.1 ...\n",
            " $ Petal.Length: num  1.4 1.4 1.3 1.5 1.4 1.7 1.4 1.5 1.4 1.5 ...\n",
            " $ Petal.Width : num  0.2 0.2 0.2 0.2 0.2 0.4 0.3 0.2 0.2 0.1 ...\n",
            " $ Species     : Factor w/ 3 levels \"setosa\",\"versicolor\",..: 1 1 1 1 1 1 1 1 1 1 ...\n"
          ]
        }
      ]
    },
    {
      "cell_type": "code",
      "source": [
        "summary(iris)"
      ],
      "metadata": {
        "colab": {
          "base_uri": "https://localhost:8080/",
          "height": 260
        },
        "id": "KWBE0vBs8qZq",
        "outputId": "0f35b189-ce89-49f9-bce6-85d579cac443"
      },
      "execution_count": 3,
      "outputs": [
        {
          "output_type": "display_data",
          "data": {
            "text/plain": [
              "  Sepal.Length    Sepal.Width     Petal.Length    Petal.Width   \n",
              " Min.   :4.300   Min.   :2.000   Min.   :1.000   Min.   :0.100  \n",
              " 1st Qu.:5.100   1st Qu.:2.800   1st Qu.:1.600   1st Qu.:0.300  \n",
              " Median :5.800   Median :3.000   Median :4.350   Median :1.300  \n",
              " Mean   :5.843   Mean   :3.057   Mean   :3.758   Mean   :1.199  \n",
              " 3rd Qu.:6.400   3rd Qu.:3.300   3rd Qu.:5.100   3rd Qu.:1.800  \n",
              " Max.   :7.900   Max.   :4.400   Max.   :6.900   Max.   :2.500  \n",
              "       Species  \n",
              " setosa    :50  \n",
              " versicolor:50  \n",
              " virginica :50  \n",
              "                \n",
              "                \n",
              "                "
            ]
          },
          "metadata": {}
        }
      ]
    },
    {
      "cell_type": "markdown",
      "source": [
        "Categorical:"
      ],
      "metadata": {
        "id": "XtvTKVBnC1Ss"
      }
    },
    {
      "cell_type": "code",
      "source": [
        "table(iris$Species)"
      ],
      "metadata": {
        "colab": {
          "base_uri": "https://localhost:8080/",
          "height": 69
        },
        "id": "HKQkm-dsCr9h",
        "outputId": "d3788aca-d517-4183-ba80-84f56cf1e2ff"
      },
      "execution_count": 21,
      "outputs": [
        {
          "output_type": "display_data",
          "data": {
            "text/plain": [
              "\n",
              "    setosa versicolor  virginica \n",
              "        50         50         50 "
            ]
          },
          "metadata": {}
        }
      ]
    },
    {
      "cell_type": "markdown",
      "source": [
        "Percent:"
      ],
      "metadata": {
        "id": "1VaZjZn6EC5N"
      }
    },
    {
      "cell_type": "code",
      "source": [
        "round(prop.table(table(iris$Species)) * 100, digits=1)"
      ],
      "metadata": {
        "colab": {
          "base_uri": "https://localhost:8080/",
          "height": 69
        },
        "id": "K8Wjp0TIDCSH",
        "outputId": "53df2b6e-9462-4c14-fc1e-e1c6f932d81e"
      },
      "execution_count": 32,
      "outputs": [
        {
          "output_type": "display_data",
          "data": {
            "text/plain": [
              "\n",
              "    setosa versicolor  virginica \n",
              "      33.3       33.3       33.3 "
            ]
          },
          "metadata": {}
        }
      ]
    },
    {
      "cell_type": "markdown",
      "source": [
        "## Summary statistics"
      ],
      "metadata": {
        "id": "_CSkhJN2CIXb"
      }
    },
    {
      "cell_type": "markdown",
      "source": [
        "Five number summary:"
      ],
      "metadata": {
        "id": "cc6C-ylw_2Bv"
      }
    },
    {
      "cell_type": "code",
      "source": [
        "summary(iris$Sepal.Length)"
      ],
      "metadata": {
        "colab": {
          "base_uri": "https://localhost:8080/",
          "height": 52
        },
        "id": "28WZq2YD_4Ue",
        "outputId": "f4d29bd4-a023-4286-8606-bcf2412d896d"
      },
      "execution_count": 6,
      "outputs": [
        {
          "output_type": "display_data",
          "data": {
            "text/plain": [
              "   Min. 1st Qu.  Median    Mean 3rd Qu.    Max. \n",
              "  4.300   5.100   5.800   5.843   6.400   7.900 "
            ]
          },
          "metadata": {}
        }
      ]
    },
    {
      "cell_type": "markdown",
      "source": [
        "Mean:"
      ],
      "metadata": {
        "id": "NTzsiDDT_l2a"
      }
    },
    {
      "cell_type": "code",
      "source": [
        "mean(iris$Sepal.Length)"
      ],
      "metadata": {
        "colab": {
          "base_uri": "https://localhost:8080/",
          "height": 34
        },
        "id": "Q-6g7K0w_lPC",
        "outputId": "f361c274-68df-4091-dde1-24f422723b94"
      },
      "execution_count": 4,
      "outputs": [
        {
          "output_type": "display_data",
          "data": {
            "text/html": [
              "5.84333333333333"
            ],
            "text/markdown": "5.84333333333333",
            "text/latex": "5.84333333333333",
            "text/plain": [
              "[1] 5.843333"
            ]
          },
          "metadata": {}
        }
      ]
    },
    {
      "cell_type": "markdown",
      "source": [
        "Median:"
      ],
      "metadata": {
        "id": "SAZbeXE3_ujD"
      }
    },
    {
      "cell_type": "code",
      "source": [
        "median(iris$Sepal.Length)"
      ],
      "metadata": {
        "colab": {
          "base_uri": "https://localhost:8080/",
          "height": 34
        },
        "id": "aD0NGrNA_uDa",
        "outputId": "27257ba8-93de-476d-a3a9-5dd418a38309"
      },
      "execution_count": 8,
      "outputs": [
        {
          "output_type": "display_data",
          "data": {
            "text/html": [
              "5.8"
            ],
            "text/markdown": "5.8",
            "text/latex": "5.8",
            "text/plain": [
              "[1] 5.8"
            ]
          },
          "metadata": {}
        }
      ]
    },
    {
      "cell_type": "markdown",
      "source": [
        "Range from min to max:"
      ],
      "metadata": {
        "id": "s56e0KplAN35"
      }
    },
    {
      "cell_type": "code",
      "source": [
        "range(iris$Sepal.Length)"
      ],
      "metadata": {
        "colab": {
          "base_uri": "https://localhost:8080/",
          "height": 34
        },
        "id": "3l79YClo_cGW",
        "outputId": "4368ce07-b4fa-43b9-d0e4-97efa0d81b14"
      },
      "execution_count": 9,
      "outputs": [
        {
          "output_type": "display_data",
          "data": {
            "text/html": [
              "<style>\n",
              ".list-inline {list-style: none; margin:0; padding: 0}\n",
              ".list-inline>li {display: inline-block}\n",
              ".list-inline>li:not(:last-child)::after {content: \"\\00b7\"; padding: 0 .5ex}\n",
              "</style>\n",
              "<ol class=list-inline><li>4.3</li><li>7.9</li></ol>\n"
            ],
            "text/markdown": "1. 4.3\n2. 7.9\n\n\n",
            "text/latex": "\\begin{enumerate*}\n\\item 4.3\n\\item 7.9\n\\end{enumerate*}\n",
            "text/plain": [
              "[1] 4.3 7.9"
            ]
          },
          "metadata": {}
        }
      ]
    },
    {
      "cell_type": "markdown",
      "source": [
        "IQR (interquantile range):"
      ],
      "metadata": {
        "id": "lz33nM17AQ_u"
      }
    },
    {
      "cell_type": "code",
      "source": [
        "IQR(iris$Sepal.Length)"
      ],
      "metadata": {
        "colab": {
          "base_uri": "https://localhost:8080/",
          "height": 34
        },
        "id": "ebvce0jQA584",
        "outputId": "7db95308-fe0c-46f8-a4e6-87d2bf5d0c5e"
      },
      "execution_count": 10,
      "outputs": [
        {
          "output_type": "display_data",
          "data": {
            "text/html": [
              "1.3"
            ],
            "text/markdown": "1.3",
            "text/latex": "1.3",
            "text/plain": [
              "[1] 1.3"
            ]
          },
          "metadata": {}
        }
      ]
    },
    {
      "cell_type": "markdown",
      "source": [
        "Quntile:"
      ],
      "metadata": {
        "id": "O43MPOBlA7dP"
      }
    },
    {
      "cell_type": "code",
      "source": [
        "quantile(iris$Sepal.Length)"
      ],
      "metadata": {
        "colab": {
          "base_uri": "https://localhost:8080/",
          "height": 34
        },
        "id": "Sm03i3OlA-Nu",
        "outputId": "cd82017c-8667-4786-e70b-670c4b21bd42"
      },
      "execution_count": 11,
      "outputs": [
        {
          "output_type": "display_data",
          "data": {
            "text/html": [
              "<style>\n",
              ".dl-inline {width: auto; margin:0; padding: 0}\n",
              ".dl-inline>dt, .dl-inline>dd {float: none; width: auto; display: inline-block}\n",
              ".dl-inline>dt::after {content: \":\\0020\"; padding-right: .5ex}\n",
              ".dl-inline>dt:not(:first-of-type) {padding-left: .5ex}\n",
              "</style><dl class=dl-inline><dt>0%</dt><dd>4.3</dd><dt>25%</dt><dd>5.1</dd><dt>50%</dt><dd>5.8</dd><dt>75%</dt><dd>6.4</dd><dt>100%</dt><dd>7.9</dd></dl>\n"
            ],
            "text/markdown": "0%\n:   4.325%\n:   5.150%\n:   5.875%\n:   6.4100%\n:   7.9\n\n",
            "text/latex": "\\begin{description*}\n\\item[0\\textbackslash{}\\%] 4.3\n\\item[25\\textbackslash{}\\%] 5.1\n\\item[50\\textbackslash{}\\%] 5.8\n\\item[75\\textbackslash{}\\%] 6.4\n\\item[100\\textbackslash{}\\%] 7.9\n\\end{description*}\n",
            "text/plain": [
              "  0%  25%  50%  75% 100% \n",
              " 4.3  5.1  5.8  6.4  7.9 "
            ]
          },
          "metadata": {}
        }
      ]
    },
    {
      "cell_type": "code",
      "source": [
        "quantile(iris$Sepal.Length, prob=c(0.01, 0.99))"
      ],
      "metadata": {
        "colab": {
          "base_uri": "https://localhost:8080/",
          "height": 34
        },
        "id": "eSA8PrmHA_-0",
        "outputId": "c410914a-f2f1-43d6-a039-73bffbbf7f2b"
      },
      "execution_count": 12,
      "outputs": [
        {
          "output_type": "display_data",
          "data": {
            "text/html": [
              "<style>\n",
              ".dl-inline {width: auto; margin:0; padding: 0}\n",
              ".dl-inline>dt, .dl-inline>dd {float: none; width: auto; display: inline-block}\n",
              ".dl-inline>dt::after {content: \":\\0020\"; padding-right: .5ex}\n",
              ".dl-inline>dt:not(:first-of-type) {padding-left: .5ex}\n",
              "</style><dl class=dl-inline><dt>1%</dt><dd>4.4</dd><dt>99%</dt><dd>7.7</dd></dl>\n"
            ],
            "text/markdown": "1%\n:   4.499%\n:   7.7\n\n",
            "text/latex": "\\begin{description*}\n\\item[1\\textbackslash{}\\%] 4.4\n\\item[99\\textbackslash{}\\%] 7.7\n\\end{description*}\n",
            "text/plain": [
              " 1% 99% \n",
              "4.4 7.7 "
            ]
          },
          "metadata": {}
        }
      ]
    },
    {
      "cell_type": "markdown",
      "source": [
        "Var:"
      ],
      "metadata": {
        "id": "LNjmsWL5CSAx"
      }
    },
    {
      "cell_type": "code",
      "source": [
        "var(iris$Sepal.Length)"
      ],
      "metadata": {
        "colab": {
          "base_uri": "https://localhost:8080/",
          "height": 34
        },
        "id": "dDI3THkiCc7W",
        "outputId": "454b92bf-8f1e-4b3a-8759-6b8278aae393"
      },
      "execution_count": 18,
      "outputs": [
        {
          "output_type": "display_data",
          "data": {
            "text/html": [
              "0.685693512304251"
            ],
            "text/markdown": "0.685693512304251",
            "text/latex": "0.685693512304251",
            "text/plain": [
              "[1] 0.6856935"
            ]
          },
          "metadata": {}
        }
      ]
    },
    {
      "cell_type": "markdown",
      "source": [
        "SD:"
      ],
      "metadata": {
        "id": "wpqVGFAsCaoh"
      }
    },
    {
      "cell_type": "code",
      "source": [
        "sd(iris$Sepal.Length)"
      ],
      "metadata": {
        "colab": {
          "base_uri": "https://localhost:8080/",
          "height": 34
        },
        "id": "YOZK588KCfqf",
        "outputId": "1aa220a1-b1c6-457c-ecd6-c118d39af0cb"
      },
      "execution_count": 19,
      "outputs": [
        {
          "output_type": "display_data",
          "data": {
            "text/html": [
              "0.828066127977863"
            ],
            "text/markdown": "0.828066127977863",
            "text/latex": "0.828066127977863",
            "text/plain": [
              "[1] 0.8280661"
            ]
          },
          "metadata": {}
        }
      ]
    },
    {
      "cell_type": "markdown",
      "source": [
        "Mode:"
      ],
      "metadata": {
        "id": "eu1AmIjIENHz"
      }
    },
    {
      "cell_type": "markdown",
      "source": [
        "## Plot"
      ],
      "metadata": {
        "id": "kA2K0SRnCEMz"
      }
    },
    {
      "cell_type": "markdown",
      "source": [
        "### Box plot"
      ],
      "metadata": {
        "id": "UroE7D5ZBG_v"
      }
    },
    {
      "cell_type": "code",
      "source": [
        "boxplot(iris$Sepal.Length, main=\"Boxplot of Sepal Length\", ylab=\"length [cm]\")"
      ],
      "metadata": {
        "colab": {
          "base_uri": "https://localhost:8080/",
          "height": 437
        },
        "id": "WNso-3EQBQb2",
        "outputId": "d035e040-4704-4af9-cfd2-933fcd16e9f9"
      },
      "execution_count": 15,
      "outputs": [
        {
          "output_type": "display_data",
          "data": {
            "text/plain": [
              "Plot with title “Boxplot of Sepal Length”"
            ],
            "image/png": "[encoded data removed]"
          },
          "metadata": {
            "image/png": {
              "width": 420,
              "height": 420
            }
          }
        }
      ]
    },
    {
      "cell_type": "markdown",
      "source": [
        "### Histogram"
      ],
      "metadata": {
        "id": "ONh1EunZBvQ4"
      }
    },
    {
      "cell_type": "code",
      "source": [
        "hist(iris$Sepal.Length, main=\"Histogran of Sepal Lenghth\", xlab=\"length [cm]\")"
      ],
      "metadata": {
        "colab": {
          "base_uri": "https://localhost:8080/",
          "height": 437
        },
        "id": "ozl9ox7SBxGc",
        "outputId": "d456390c-2af9-491f-b6d4-e093491ffc3c"
      },
      "execution_count": 17,
      "outputs": [
        {
          "output_type": "display_data",
          "data": {
            "text/plain": [
              "Plot with title “Histogran of Sepal Lenghth”"
            ],
            "image/png": "[encoded data removed]"
          },
          "metadata": {
            "image/png": {
              "width": 420,
              "height": 420
            }
          }
        }
      ]
    },
    {
      "cell_type": "markdown",
      "source": [
        "### Scatterplot"
      ],
      "metadata": {
        "id": "g0JPweGeEa-j"
      }
    },
    {
      "cell_type": "code",
      "source": [
        "plot(\n",
        "    x=iris$Sepal.Length, y=iris$Sepal.Width,\n",
        "    main=\"Sepal: Width vs. Length\", xlab=\"Length [cm]\", ylab=\"Width [cm]\")"
      ],
      "metadata": {
        "colab": {
          "base_uri": "https://localhost:8080/",
          "height": 437
        },
        "id": "bRTkWKqCB4fV",
        "outputId": "d592c1a3-8ff1-4620-b0ef-bbefdfc2bdfc"
      },
      "execution_count": 35,
      "outputs": [
        {
          "output_type": "display_data",
          "data": {
            "text/plain": [
              "Plot with title “Sepal: Width vs. Length”"
            ],
            "image/png": "[encoded data removed]"
          },
          "metadata": {
            "image/png": {
              "width": 420,
              "height": 420
            }
          }
        }
      ]
    },
    {
      "cell_type": "markdown",
      "source": [
        "## Cross table"
      ],
      "metadata": {
        "id": "K8Bghl1pE6WJ"
      }
    },
    {
      "cell_type": "code",
      "source": [
        "str(UCBAdmissions)"
      ],
      "metadata": {
        "colab": {
          "base_uri": "https://localhost:8080/"
        },
        "id": "oiremrxIEyYV",
        "outputId": "64e9a567-cc87-47e0-d9c1-a10525a4025f"
      },
      "execution_count": 39,
      "outputs": [
        {
          "output_type": "stream",
          "name": "stdout",
          "text": [
            " 'table' num [1:2, 1:2, 1:6] 512 313 89 19 353 207 17 8 120 205 ...\n",
            " - attr(*, \"dimnames\")=List of 3\n",
            "  ..$ Admit : chr [1:2] \"Admitted\" \"Rejected\"\n",
            "  ..$ Gender: chr [1:2] \"Male\" \"Female\"\n",
            "  ..$ Dept  : chr [1:6] \"A\" \"B\" \"C\" \"D\" ...\n"
          ]
        }
      ]
    },
    {
      "cell_type": "code",
      "source": [
        "raw <- data.frame(UCBAdmissions)\n",
        "str(raw)\n",
        "print(raw)"
      ],
      "metadata": {
        "colab": {
          "base_uri": "https://localhost:8080/"
        },
        "id": "E68Sr5TMGJZG",
        "outputId": "9030554e-face-4a31-feea-e30fffc0b925"
      },
      "execution_count": 50,
      "outputs": [
        {
          "output_type": "stream",
          "name": "stdout",
          "text": [
            "'data.frame':\t24 obs. of  4 variables:\n",
            " $ Admit : Factor w/ 2 levels \"Admitted\",\"Rejected\": 1 2 1 2 1 2 1 2 1 2 ...\n",
            " $ Gender: Factor w/ 2 levels \"Male\",\"Female\": 1 1 2 2 1 1 2 2 1 1 ...\n",
            " $ Dept  : Factor w/ 6 levels \"A\",\"B\",\"C\",\"D\",..: 1 1 1 1 2 2 2 2 3 3 ...\n",
            " $ Freq  : num  512 313 89 19 353 207 17 8 120 205 ...\n",
            "      Admit Gender Dept Freq\n",
            "1  Admitted   Male    A  512\n",
            "2  Rejected   Male    A  313\n",
            "3  Admitted Female    A   89\n",
            "4  Rejected Female    A   19\n",
            "5  Admitted   Male    B  353\n",
            "6  Rejected   Male    B  207\n",
            "7  Admitted Female    B   17\n",
            "8  Rejected Female    B    8\n",
            "9  Admitted   Male    C  120\n",
            "10 Rejected   Male    C  205\n",
            "11 Admitted Female    C  202\n",
            "12 Rejected Female    C  391\n",
            "13 Admitted   Male    D  138\n",
            "14 Rejected   Male    D  279\n",
            "15 Admitted Female    D  131\n",
            "16 Rejected Female    D  244\n",
            "17 Admitted   Male    E   53\n",
            "18 Rejected   Male    E  138\n",
            "19 Admitted Female    E   94\n",
            "20 Rejected Female    E  299\n",
            "21 Admitted   Male    F   22\n",
            "22 Rejected   Male    F  351\n",
            "23 Admitted Female    F   24\n",
            "24 Rejected Female    F  317\n"
          ]
        }
      ]
    },
    {
      "cell_type": "code",
      "source": [
        "df <- data.frame(lapply(raw, function(i){rep(i, raw[, 4])}))[-4]\n",
        "str(df)\n",
        "print(df[1:5,])"
      ],
      "metadata": {
        "colab": {
          "base_uri": "https://localhost:8080/"
        },
        "id": "J3m_AJg0FEnW",
        "outputId": "2d972dd6-d4c3-48e8-aab8-2427a51145d0"
      },
      "execution_count": 55,
      "outputs": [
        {
          "output_type": "stream",
          "name": "stdout",
          "text": [
            "'data.frame':\t4526 obs. of  3 variables:\n",
            " $ Admit : Factor w/ 2 levels \"Admitted\",\"Rejected\": 1 1 1 1 1 1 1 1 1 1 ...\n",
            " $ Gender: Factor w/ 2 levels \"Male\",\"Female\": 1 1 1 1 1 1 1 1 1 1 ...\n",
            " $ Dept  : Factor w/ 6 levels \"A\",\"B\",\"C\",\"D\",..: 1 1 1 1 1 1 1 1 1 1 ...\n",
            "     Admit Gender Dept\n",
            "1 Admitted   Male    A\n",
            "2 Admitted   Male    A\n",
            "3 Admitted   Male    A\n",
            "4 Admitted   Male    A\n",
            "5 Admitted   Male    A\n"
          ]
        }
      ]
    },
    {
      "cell_type": "code",
      "source": [
        "CrossTable(x=df$Dept, y=df$Admit)"
      ],
      "metadata": {
        "colab": {
          "base_uri": "https://localhost:8080/"
        },
        "id": "SevwhR50HJYn",
        "outputId": "034bfaff-f018-45d9-afe3-7d034a25f113"
      },
      "execution_count": 57,
      "outputs": [
        {
          "output_type": "stream",
          "name": "stdout",
          "text": [
            "\n",
            " \n",
            "   Cell Contents\n",
            "|-------------------------|\n",
            "|                       N |\n",
            "| Chi-square contribution |\n",
            "|           N / Row Total |\n",
            "|           N / Col Total |\n",
            "|         N / Table Total |\n",
            "|-------------------------|\n",
            "\n",
            " \n",
            "Total Observations in Table:  4526 \n",
            "\n",
            " \n",
            "             | df$Admit \n",
            "     df$Dept |  Admitted |  Rejected | Row Total | \n",
            "-------------|-----------|-----------|-----------|\n",
            "           A |       601 |       332 |       933 | \n",
            "             |   158.180 |   100.183 |           | \n",
            "             |     0.644 |     0.356 |     0.206 | \n",
            "             |     0.342 |     0.120 |           | \n",
            "             |     0.133 |     0.073 |           | \n",
            "-------------|-----------|-----------|-----------|\n",
            "           B |       370 |       215 |       585 | \n",
            "             |    90.350 |    57.223 |           | \n",
            "             |     0.632 |     0.368 |     0.129 | \n",
            "             |     0.211 |     0.078 |           | \n",
            "             |     0.082 |     0.048 |           | \n",
            "-------------|-----------|-----------|-----------|\n",
            "           C |       322 |       596 |       918 | \n",
            "             |     3.241 |     2.052 |           | \n",
            "             |     0.351 |     0.649 |     0.203 | \n",
            "             |     0.183 |     0.215 |           | \n",
            "             |     0.071 |     0.132 |           | \n",
            "-------------|-----------|-----------|-----------|\n",
            "           D |       269 |       523 |       792 | \n",
            "             |     4.728 |     2.995 |           | \n",
            "             |     0.340 |     0.660 |     0.175 | \n",
            "             |     0.153 |     0.189 |           | \n",
            "             |     0.059 |     0.116 |           | \n",
            "-------------|-----------|-----------|-----------|\n",
            "           E |       147 |       437 |       584 | \n",
            "             |    27.876 |    17.655 |           | \n",
            "             |     0.252 |     0.748 |     0.129 | \n",
            "             |     0.084 |     0.158 |           | \n",
            "             |     0.032 |     0.097 |           | \n",
            "-------------|-----------|-----------|-----------|\n",
            "           F |        46 |       668 |       714 | \n",
            "             |   192.503 |   121.921 |           | \n",
            "             |     0.064 |     0.936 |     0.158 | \n",
            "             |     0.026 |     0.241 |           | \n",
            "             |     0.010 |     0.148 |           | \n",
            "-------------|-----------|-----------|-----------|\n",
            "Column Total |      1755 |      2771 |      4526 | \n",
            "             |     0.388 |     0.612 |           | \n",
            "-------------|-----------|-----------|-----------|\n",
            "\n",
            " \n"
          ]
        }
      ]
    }
  ]
}